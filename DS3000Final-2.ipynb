{
 "cells": [
  {
   "cell_type": "code",
   "execution_count": 33,
   "id": "9cd2c416-c293-46b7-bd0c-c31cfb4980db",
   "metadata": {},
   "outputs": [],
   "source": [
    "import requests\n",
    "import pandas as pd\n",
    "from API import api_key\n",
    "\n",
    "end_date = '2024-10-20'\n",
    "start_date = '2024-09-20'\n",
    "\n",
    "\n",
    "url = f'https://api.nasa.gov/DONKI/FLR?startDate={start_date}&endDate={end_date}&api_key={api_key}'\n",
    "\n",
    "# Retrieves the data\n",
    "response = requests.get(url)\n",
    "\n",
    "# Stores the retreived data in a list\n",
    "data = response.json()"
   ]
  },
  {
   "cell_type": "code",
   "execution_count": 46,
   "id": "e15d5938-8d73-4d96-863e-71613ac14e47",
   "metadata": {},
   "outputs": [
    {
     "data": {
      "text/html": [
       "<div>\n",
       "<style scoped>\n",
       "    .dataframe tbody tr th:only-of-type {\n",
       "        vertical-align: middle;\n",
       "    }\n",
       "\n",
       "    .dataframe tbody tr th {\n",
       "        vertical-align: top;\n",
       "    }\n",
       "\n",
       "    .dataframe thead th {\n",
       "        text-align: right;\n",
       "    }\n",
       "</style>\n",
       "<table border=\"1\" class=\"dataframe\">\n",
       "  <thead>\n",
       "    <tr style=\"text-align: right;\">\n",
       "      <th></th>\n",
       "      <th>flrID</th>\n",
       "      <th>catalog</th>\n",
       "      <th>beginTime</th>\n",
       "      <th>peakTime</th>\n",
       "      <th>endTime</th>\n",
       "      <th>length</th>\n",
       "      <th>peakPosition</th>\n",
       "      <th>classType_M</th>\n",
       "      <th>classTypeNot_M</th>\n",
       "    </tr>\n",
       "  </thead>\n",
       "  <tbody>\n",
       "    <tr>\n",
       "      <th>0</th>\n",
       "      <td>2024-09-22T21:12:00-FLR-001</td>\n",
       "      <td>M2M_CATALOG</td>\n",
       "      <td>2024-09-22 21:12:00+00:00</td>\n",
       "      <td>2024-09-22 21:39:00+00:00</td>\n",
       "      <td>2024-09-22 22:05:00+00:00</td>\n",
       "      <td>0 days 00:53:00</td>\n",
       "      <td>0.509434</td>\n",
       "      <td>1.0</td>\n",
       "      <td>0.0</td>\n",
       "    </tr>\n",
       "    <tr>\n",
       "      <th>1</th>\n",
       "      <td>2024-09-23T14:23:00-FLR-001</td>\n",
       "      <td>M2M_CATALOG</td>\n",
       "      <td>2024-09-23 14:23:00+00:00</td>\n",
       "      <td>2024-09-23 14:56:00+00:00</td>\n",
       "      <td>2024-09-23 15:34:00+00:00</td>\n",
       "      <td>0 days 01:11:00</td>\n",
       "      <td>0.464789</td>\n",
       "      <td>1.0</td>\n",
       "      <td>0.0</td>\n",
       "    </tr>\n",
       "    <tr>\n",
       "      <th>2</th>\n",
       "      <td>2024-09-25T22:57:00-FLR-001</td>\n",
       "      <td>M2M_CATALOG</td>\n",
       "      <td>2024-09-25 22:57:00+00:00</td>\n",
       "      <td>2024-09-25 23:12:00+00:00</td>\n",
       "      <td>2024-09-25 23:23:00+00:00</td>\n",
       "      <td>0 days 00:26:00</td>\n",
       "      <td>0.576923</td>\n",
       "      <td>1.0</td>\n",
       "      <td>0.0</td>\n",
       "    </tr>\n",
       "    <tr>\n",
       "      <th>3</th>\n",
       "      <td>2024-09-26T19:41:00-FLR-001</td>\n",
       "      <td>M2M_CATALOG</td>\n",
       "      <td>2024-09-26 19:41:00+00:00</td>\n",
       "      <td>2024-09-26 19:49:00+00:00</td>\n",
       "      <td>2024-09-26 19:54:00+00:00</td>\n",
       "      <td>0 days 00:13:00</td>\n",
       "      <td>0.615385</td>\n",
       "      <td>0.0</td>\n",
       "      <td>1.0</td>\n",
       "    </tr>\n",
       "    <tr>\n",
       "      <th>4</th>\n",
       "      <td>2024-09-26T22:58:00-FLR-001</td>\n",
       "      <td>M2M_CATALOG</td>\n",
       "      <td>2024-09-26 22:58:00+00:00</td>\n",
       "      <td>2024-09-26 23:12:00+00:00</td>\n",
       "      <td>2024-09-26 23:20:00+00:00</td>\n",
       "      <td>0 days 00:22:00</td>\n",
       "      <td>0.636364</td>\n",
       "      <td>1.0</td>\n",
       "      <td>0.0</td>\n",
       "    </tr>\n",
       "    <tr>\n",
       "      <th>5</th>\n",
       "      <td>2024-09-29T05:26:00-FLR-001</td>\n",
       "      <td>M2M_CATALOG</td>\n",
       "      <td>2024-09-29 05:26:00+00:00</td>\n",
       "      <td>2024-09-29 06:11:00+00:00</td>\n",
       "      <td>2024-09-29 06:48:00+00:00</td>\n",
       "      <td>0 days 01:22:00</td>\n",
       "      <td>0.548780</td>\n",
       "      <td>0.0</td>\n",
       "      <td>1.0</td>\n",
       "    </tr>\n",
       "    <tr>\n",
       "      <th>6</th>\n",
       "      <td>2024-09-29T12:49:00-FLR-001</td>\n",
       "      <td>M2M_CATALOG</td>\n",
       "      <td>2024-09-29 12:49:00+00:00</td>\n",
       "      <td>2024-09-29 12:53:00+00:00</td>\n",
       "      <td>2024-09-29 12:58:00+00:00</td>\n",
       "      <td>0 days 00:09:00</td>\n",
       "      <td>0.444444</td>\n",
       "      <td>1.0</td>\n",
       "      <td>0.0</td>\n",
       "    </tr>\n",
       "    <tr>\n",
       "      <th>7</th>\n",
       "      <td>2024-09-29T14:09:00-FLR-001</td>\n",
       "      <td>M2M_CATALOG</td>\n",
       "      <td>2024-09-29 14:09:00+00:00</td>\n",
       "      <td>2024-09-29 14:24:00+00:00</td>\n",
       "      <td>2024-09-29 14:31:00+00:00</td>\n",
       "      <td>0 days 00:22:00</td>\n",
       "      <td>0.681818</td>\n",
       "      <td>1.0</td>\n",
       "      <td>0.0</td>\n",
       "    </tr>\n",
       "    <tr>\n",
       "      <th>8</th>\n",
       "      <td>2024-09-29T14:31:00-FLR-001</td>\n",
       "      <td>M2M_CATALOG</td>\n",
       "      <td>2024-09-29 14:31:00+00:00</td>\n",
       "      <td>2024-09-29 14:41:00+00:00</td>\n",
       "      <td>2024-09-29 14:46:00+00:00</td>\n",
       "      <td>0 days 00:15:00</td>\n",
       "      <td>0.666667</td>\n",
       "      <td>1.0</td>\n",
       "      <td>0.0</td>\n",
       "    </tr>\n",
       "    <tr>\n",
       "      <th>9</th>\n",
       "      <td>2024-09-30T23:37:00-FLR-001</td>\n",
       "      <td>M2M_CATALOG</td>\n",
       "      <td>2024-09-30 23:37:00+00:00</td>\n",
       "      <td>2024-09-30 23:59:00+00:00</td>\n",
       "      <td>2024-10-01 00:23:00+00:00</td>\n",
       "      <td>0 days 00:46:00</td>\n",
       "      <td>0.478261</td>\n",
       "      <td>1.0</td>\n",
       "      <td>0.0</td>\n",
       "    </tr>\n",
       "    <tr>\n",
       "      <th>10</th>\n",
       "      <td>2024-10-01T14:41:00-FLR-001</td>\n",
       "      <td>M2M_CATALOG</td>\n",
       "      <td>2024-10-01 14:41:00+00:00</td>\n",
       "      <td>2024-10-01 14:52:00+00:00</td>\n",
       "      <td>2024-10-01 14:56:00+00:00</td>\n",
       "      <td>0 days 00:15:00</td>\n",
       "      <td>0.733333</td>\n",
       "      <td>1.0</td>\n",
       "      <td>0.0</td>\n",
       "    </tr>\n",
       "    <tr>\n",
       "      <th>11</th>\n",
       "      <td>2024-10-01T18:52:00-FLR-001</td>\n",
       "      <td>M2M_CATALOG</td>\n",
       "      <td>2024-10-01 18:52:00+00:00</td>\n",
       "      <td>2024-10-01 19:17:00+00:00</td>\n",
       "      <td>2024-10-01 19:37:00+00:00</td>\n",
       "      <td>0 days 00:45:00</td>\n",
       "      <td>0.555556</td>\n",
       "      <td>1.0</td>\n",
       "      <td>0.0</td>\n",
       "    </tr>\n",
       "    <tr>\n",
       "      <th>12</th>\n",
       "      <td>2024-10-01T21:58:00-FLR-001</td>\n",
       "      <td>M2M_CATALOG</td>\n",
       "      <td>2024-10-01 21:58:00+00:00</td>\n",
       "      <td>2024-10-01 22:20:00+00:00</td>\n",
       "      <td>2024-10-01 22:29:00+00:00</td>\n",
       "      <td>0 days 00:31:00</td>\n",
       "      <td>0.709677</td>\n",
       "      <td>0.0</td>\n",
       "      <td>1.0</td>\n",
       "    </tr>\n",
       "    <tr>\n",
       "      <th>13</th>\n",
       "      <td>2024-10-02T01:43:00-FLR-001</td>\n",
       "      <td>M2M_CATALOG</td>\n",
       "      <td>2024-10-02 01:43:00+00:00</td>\n",
       "      <td>2024-10-02 01:52:00+00:00</td>\n",
       "      <td>2024-10-02 01:56:00+00:00</td>\n",
       "      <td>0 days 00:13:00</td>\n",
       "      <td>0.692308</td>\n",
       "      <td>1.0</td>\n",
       "      <td>0.0</td>\n",
       "    </tr>\n",
       "    <tr>\n",
       "      <th>14</th>\n",
       "      <td>2024-10-02T02:31:00-FLR-001</td>\n",
       "      <td>M2M_CATALOG</td>\n",
       "      <td>2024-10-02 02:31:00+00:00</td>\n",
       "      <td>2024-10-02 02:39:00+00:00</td>\n",
       "      <td>2024-10-02 02:43:00+00:00</td>\n",
       "      <td>0 days 00:12:00</td>\n",
       "      <td>0.666667</td>\n",
       "      <td>1.0</td>\n",
       "      <td>0.0</td>\n",
       "    </tr>\n",
       "  </tbody>\n",
       "</table>\n",
       "</div>"
      ],
      "text/plain": [
       "                          flrID      catalog                 beginTime  \\\n",
       "0   2024-09-22T21:12:00-FLR-001  M2M_CATALOG 2024-09-22 21:12:00+00:00   \n",
       "1   2024-09-23T14:23:00-FLR-001  M2M_CATALOG 2024-09-23 14:23:00+00:00   \n",
       "2   2024-09-25T22:57:00-FLR-001  M2M_CATALOG 2024-09-25 22:57:00+00:00   \n",
       "3   2024-09-26T19:41:00-FLR-001  M2M_CATALOG 2024-09-26 19:41:00+00:00   \n",
       "4   2024-09-26T22:58:00-FLR-001  M2M_CATALOG 2024-09-26 22:58:00+00:00   \n",
       "5   2024-09-29T05:26:00-FLR-001  M2M_CATALOG 2024-09-29 05:26:00+00:00   \n",
       "6   2024-09-29T12:49:00-FLR-001  M2M_CATALOG 2024-09-29 12:49:00+00:00   \n",
       "7   2024-09-29T14:09:00-FLR-001  M2M_CATALOG 2024-09-29 14:09:00+00:00   \n",
       "8   2024-09-29T14:31:00-FLR-001  M2M_CATALOG 2024-09-29 14:31:00+00:00   \n",
       "9   2024-09-30T23:37:00-FLR-001  M2M_CATALOG 2024-09-30 23:37:00+00:00   \n",
       "10  2024-10-01T14:41:00-FLR-001  M2M_CATALOG 2024-10-01 14:41:00+00:00   \n",
       "11  2024-10-01T18:52:00-FLR-001  M2M_CATALOG 2024-10-01 18:52:00+00:00   \n",
       "12  2024-10-01T21:58:00-FLR-001  M2M_CATALOG 2024-10-01 21:58:00+00:00   \n",
       "13  2024-10-02T01:43:00-FLR-001  M2M_CATALOG 2024-10-02 01:43:00+00:00   \n",
       "14  2024-10-02T02:31:00-FLR-001  M2M_CATALOG 2024-10-02 02:31:00+00:00   \n",
       "\n",
       "                    peakTime                   endTime          length  \\\n",
       "0  2024-09-22 21:39:00+00:00 2024-09-22 22:05:00+00:00 0 days 00:53:00   \n",
       "1  2024-09-23 14:56:00+00:00 2024-09-23 15:34:00+00:00 0 days 01:11:00   \n",
       "2  2024-09-25 23:12:00+00:00 2024-09-25 23:23:00+00:00 0 days 00:26:00   \n",
       "3  2024-09-26 19:49:00+00:00 2024-09-26 19:54:00+00:00 0 days 00:13:00   \n",
       "4  2024-09-26 23:12:00+00:00 2024-09-26 23:20:00+00:00 0 days 00:22:00   \n",
       "5  2024-09-29 06:11:00+00:00 2024-09-29 06:48:00+00:00 0 days 01:22:00   \n",
       "6  2024-09-29 12:53:00+00:00 2024-09-29 12:58:00+00:00 0 days 00:09:00   \n",
       "7  2024-09-29 14:24:00+00:00 2024-09-29 14:31:00+00:00 0 days 00:22:00   \n",
       "8  2024-09-29 14:41:00+00:00 2024-09-29 14:46:00+00:00 0 days 00:15:00   \n",
       "9  2024-09-30 23:59:00+00:00 2024-10-01 00:23:00+00:00 0 days 00:46:00   \n",
       "10 2024-10-01 14:52:00+00:00 2024-10-01 14:56:00+00:00 0 days 00:15:00   \n",
       "11 2024-10-01 19:17:00+00:00 2024-10-01 19:37:00+00:00 0 days 00:45:00   \n",
       "12 2024-10-01 22:20:00+00:00 2024-10-01 22:29:00+00:00 0 days 00:31:00   \n",
       "13 2024-10-02 01:52:00+00:00 2024-10-02 01:56:00+00:00 0 days 00:13:00   \n",
       "14 2024-10-02 02:39:00+00:00 2024-10-02 02:43:00+00:00 0 days 00:12:00   \n",
       "\n",
       "    peakPosition  classType_M  classTypeNot_M  \n",
       "0       0.509434          1.0             0.0  \n",
       "1       0.464789          1.0             0.0  \n",
       "2       0.576923          1.0             0.0  \n",
       "3       0.615385          0.0             1.0  \n",
       "4       0.636364          1.0             0.0  \n",
       "5       0.548780          0.0             1.0  \n",
       "6       0.444444          1.0             0.0  \n",
       "7       0.681818          1.0             0.0  \n",
       "8       0.666667          1.0             0.0  \n",
       "9       0.478261          1.0             0.0  \n",
       "10      0.733333          1.0             0.0  \n",
       "11      0.555556          1.0             0.0  \n",
       "12      0.709677          0.0             1.0  \n",
       "13      0.692308          1.0             0.0  \n",
       "14      0.666667          1.0             0.0  "
      ]
     },
     "execution_count": 46,
     "metadata": {},
     "output_type": "execute_result"
    }
   ],
   "source": [
    "from datetime import datetime\n",
    "\n",
    "# Converting the list of data into a dataframe\n",
    "df = pd.DataFrame(data)\n",
    "\n",
    "# Removing the excess data\n",
    "df = df.drop(columns=['instruments', 'sourceLocation', 'activeRegionNum',\n",
    "                      'note', 'submissionTime', 'versionId', 'link', 'linkedEvents'], axis=1)\n",
    "\n",
    "# Removing the numerical aspect of the class type so that it can be more categorical\n",
    "# Can be X-class, M-class, or C-class\n",
    "df['classType'] = df['classType'].apply(lambda x: x[:1])\n",
    "\n",
    "# Converting the time strings into datetime objects\n",
    "df['beginTime'] = df['beginTime'].apply(lambda x: datetime.fromisoformat(x))\n",
    "df['peakTime'] = df['peakTime'].apply(lambda x: datetime.fromisoformat(x))\n",
    "df['endTime'] = df['endTime'].apply(lambda x: datetime.fromisoformat(x))\n",
    "\n",
    "# Determining the length of each solarflare\n",
    "df['length'] = df['endTime'] - df['beginTime']\n",
    "\n",
    "# When the peak occured over the course of the solar flare on a scale from 0 to 1\n",
    "# I. e. if a peak occurs closer to the beginning of the flare it is closer to 0\n",
    "df['peakPosition'] = (df['peakTime'] - df['beginTime']) / df['length']\n",
    "\n",
    "# Cleaning the categorical data for analysis\n",
    "df = pd.get_dummies(df, columns=['classType'], dtype='float')\n",
    "\n",
    "\n",
    "df['classTypeNot_M'] = df['classType_C'] + df['classType_X']\n",
    "\n",
    "df.drop(columns=['classType_C', 'classType_X'], inplace=True)\n",
    "\n",
    "df.head(15)"
   ]
  },
  {
   "cell_type": "code",
   "execution_count": 53,
   "id": "60a0e8ff-93dd-4b0b-a25c-06d9a49d949c",
   "metadata": {},
   "outputs": [],
   "source": [
    "import matplotlib.pyplot as plt\n",
    "import plotly.express as px"
   ]
  },
  {
   "cell_type": "code",
   "execution_count": 55,
   "id": "a92ff75c-8c2d-4278-a5c1-da4dcc38bfd1",
   "metadata": {},
   "outputs": [
    {
     "data": {
      "image/png": "[encoded data removed]",
      "text/plain": [
       "<Figure size 1000x600 with 1 Axes>"
      ]
     },
     "metadata": {},
     "output_type": "display_data"
    }
   ],
   "source": [
    "plt.figure(figsize=(10, 6))\n",
    "plt.hist(df['length'].dt.total_seconds() / 3600, bins=30, color='skyblue', edgecolor='black')\n",
    "plt.title('Distribution of Solar Flare Lengths in Hours')\n",
    "plt.xlabel('Duration (hours)')\n",
    "plt.ylabel('Frequency')\n",
    "plt.show()"
   ]
  },
  {
   "cell_type": "code",
   "execution_count": 59,
   "id": "cdc245d8-1930-4441-acc9-5c47b152c426",
   "metadata": {},
   "outputs": [
    {
     "data": {
      "application/vnd.plotly.v1+json": {
       "config": {
        "plotlyServerURL": "https://plot.ly"
       },
       "data": [
        {
         "hovertemplate": "<b>%{hovertext}</b><br><br>Class Type=classType_M<br>Duration (hours)=%{x}<br>Peak Position=%{y}<extra></extra>",
         "hovertext": [
          "2024-09-22T21:12:00-FLR-001",
          "2024-09-23T14:23:00-FLR-001",
          "2024-09-25T22:57:00-FLR-001",
          "2024-09-26T22:58:00-FLR-001",
          "2024-09-29T12:49:00-FLR-001",
          "2024-09-29T14:09:00-FLR-001",
          "2024-09-29T14:31:00-FLR-001",
          "2024-09-30T23:37:00-FLR-001",
          "2024-10-01T14:41:00-FLR-001",
          "2024-10-01T18:52:00-FLR-001",
          "2024-10-02T01:43:00-FLR-001",
          "2024-10-02T02:31:00-FLR-001",
          "2024-10-02T05:30:00-FLR-001",
          "2024-10-02T06:19:00-FLR-001",
          "2024-10-02T13:22:00-FLR-001",
          "2024-10-02T19:58:00-FLR-001",
          "2024-10-02T20:27:00-FLR-001",
          "2024-10-03T02:23:00-FLR-001",
          "2024-10-03T03:22:00-FLR-001",
          "2024-10-03T08:10:00-FLR-001",
          "2024-10-03T08:30:00-FLR-001",
          "2024-10-03T09:19:00-FLR-001",
          "2024-10-03T12:00:00-FLR-001",
          "2024-10-03T17:18:00-FLR-001",
          "2024-10-03T19:18:00-FLR-001",
          "2024-10-03T20:09:00-FLR-001",
          "2024-10-03T21:39:00-FLR-001",
          "2024-10-03T23:26:00-FLR-001",
          "2024-10-04T00:09:00-FLR-001",
          "2024-10-04T04:36:00-FLR-001",
          "2024-10-04T05:30:00-FLR-001",
          "2024-10-04T10:58:00-FLR-001",
          "2024-10-04T20:55:00-FLR-001",
          "2024-10-04T22:04:00-FLR-001",
          "2024-10-05T00:07:00-FLR-001",
          "2024-10-05T08:18:00-FLR-001",
          "2024-10-05T08:37:00-FLR-001",
          "2024-10-05T20:33:00-FLR-001",
          "2024-10-05T23:10:00-FLR-001",
          "2024-10-06T00:09:00-FLR-001",
          "2024-10-06T01:30:00-FLR-001",
          "2024-10-06T15:14:00-FLR-001",
          "2024-10-06T16:41:00-FLR-001",
          "2024-10-06T18:52:00-FLR-001",
          "2024-10-06T20:52:00-FLR-001",
          "2024-10-07T18:03:00-FLR-001",
          "2024-10-08T01:01:00-FLR-001",
          "2024-10-08T08:43:00-FLR-001",
          "2024-10-09T05:41:00-FLR-001",
          "2024-10-09T22:59:00-FLR-001",
          "2024-10-10T11:47:00-FLR-001",
          "2024-10-10T12:10:00-FLR-001",
          "2024-10-10T12:22:00-FLR-001",
          "2024-10-10T16:51:00-FLR-001",
          "2024-10-10T21:54:00-FLR-001",
          "2024-10-11T15:48:00-FLR-001",
          "2024-10-11T16:07:00-FLR-001",
          "2024-10-11T22:50:00-FLR-001",
          "2024-10-14T00:04:00-FLR-001",
          "2024-10-14T13:22:00-FLR-001",
          "2024-10-15T02:02:00-FLR-001",
          "2024-10-15T02:23:00-FLR-001",
          "2024-10-15T10:00:00-FLR-001",
          "2024-10-15T18:00:00-FLR-001",
          "2024-10-15T18:28:00-FLR-001",
          "2024-10-16T03:12:00-FLR-001",
          "2024-10-16T03:21:00-FLR-001",
          "2024-10-16T03:28:00-FLR-001",
          "2024-10-16T03:38:00-FLR-001",
          "2024-10-16T04:57:00-FLR-001",
          "2024-10-16T13:12:00-FLR-001",
          "2024-10-16T14:29:00-FLR-001",
          "2024-10-16T14:51:00-FLR-001",
          "2024-10-17T02:12:00-FLR-001",
          "2024-10-17T04:53:00-FLR-001",
          "2024-10-18T17:28:00-FLR-001",
          "2024-10-18T19:27:00-FLR-001",
          "2024-10-18T23:13:00-FLR-001",
          "2024-10-19T06:48:00-FLR-001",
          "2024-10-19T14:27:00-FLR-001"
         ],
         "legendgroup": "classType_M",
         "marker": {
          "color": "blue",
          "opacity": 0.7,
          "symbol": "circle"
         },
         "mode": "markers",
         "name": "classType_M",
         "orientation": "v",
         "showlegend": true,
         "type": "scatter",
         "x": [
          0.8833333333333333,
          1.1833333333333333,
          0.43333333333333335,
          0.36666666666666664,
          0.15,
          0.36666666666666664,
          0.25,
          0.7666666666666667,
          0.25,
          0.75,
          0.21666666666666667,
          0.2,
          0.26666666666666666,
          0.15,
          0.6,
          0.48333333333333334,
          0.65,
          0.4166666666666667,
          0.6166666666666667,
          0.3333333333333333,
          0.18333333333333332,
          0.06666666666666667,
          0.08333333333333333,
          0.15,
          0.1,
          0.5166666666666667,
          0.15,
          0.06666666666666667,
          0.26666666666666666,
          0.5166666666666667,
          0.18333333333333332,
          0.3,
          0.3,
          0.23333333333333334,
          0.2,
          0.31666666666666665,
          0.21666666666666667,
          0.21666666666666667,
          0.3,
          0.3333333333333333,
          0.5666666666666667,
          0.18333333333333332,
          0.16666666666666666,
          0.2,
          0.9166666666666666,
          0.9833333333333333,
          0.06666666666666667,
          0.23333333333333334,
          0.35,
          0.36666666666666664,
          0.38333333333333336,
          0.2,
          0.1,
          0.35,
          1.2666666666666666,
          0.31666666666666665,
          0.65,
          0.7333333333333333,
          0.45,
          0.4666666666666667,
          0.35,
          0.13333333333333333,
          0.16666666666666666,
          0.4666666666666667,
          0.16666666666666666,
          0.15,
          0.08333333333333333,
          0.11666666666666667,
          0.35,
          0.5333333333333333,
          0.43333333333333335,
          0.36666666666666664,
          0.21666666666666667,
          0.43333333333333335,
          0.3333333333333333,
          0.21666666666666667,
          0.26666666666666666,
          0.4166666666666667,
          0.25,
          0.21666666666666667
         ],
         "xaxis": "x",
         "y": [
          0.5094339622641509,
          0.4647887323943662,
          0.5769230769230769,
          0.6363636363636364,
          0.4444444444444444,
          0.6818181818181818,
          0.6666666666666666,
          0.4782608695652174,
          0.7333333333333333,
          0.5555555555555556,
          0.6923076923076923,
          0.6666666666666666,
          0.5,
          0.5555555555555556,
          0.4444444444444444,
          0.5862068965517241,
          0.6153846153846154,
          0.44,
          0.5135135135135135,
          0.9,
          0.5454545454545454,
          0.5,
          0.6,
          0.3333333333333333,
          0.5,
          0.6129032258064516,
          0.2222222222222222,
          0.5,
          0.5,
          0.6129032258064516,
          0.36363636363636365,
          0.2777777777777778,
          0.5,
          0.5,
          0.4166666666666667,
          0.47368421052631576,
          0.5384615384615384,
          0.5384615384615384,
          0.5555555555555556,
          0.45,
          0.5,
          0.6363636363636364,
          0.4,
          0.5833333333333334,
          0.4909090909090909,
          0.5932203389830508,
          0.5,
          0.5714285714285714,
          0.23809523809523808,
          0.5909090909090909,
          0.6086956521739131,
          0.75,
          0.5,
          0.42857142857142855,
          0.47368421052631576,
          0.8421052631578947,
          0.6666666666666666,
          0.7954545454545454,
          0.48148148148148145,
          0.5357142857142857,
          0.5238095238095238,
          0.5,
          0.6,
          0.6428571428571429,
          0.5,
          0.7777777777777778,
          0.4,
          0.42857142857142855,
          0.38095238095238093,
          0.5625,
          0.5769230769230769,
          0.5909090909090909,
          0.6923076923076923,
          0.38461538461538464,
          0.6,
          0.6153846153846154,
          0.6875,
          0.6,
          0.5333333333333333,
          0.5384615384615384
         ],
         "yaxis": "y"
        },
        {
         "hovertemplate": "<b>%{hovertext}</b><br><br>Class Type=classTypeNot_M<br>Duration (hours)=%{x}<br>Peak Position=%{y}<extra></extra>",
         "hovertext": [
          "2024-09-26T19:41:00-FLR-001",
          "2024-09-29T05:26:00-FLR-001",
          "2024-10-01T21:58:00-FLR-001",
          "2024-10-03T12:08:00-FLR-001",
          "2024-10-07T19:02:00-FLR-001",
          "2024-10-07T19:31:00-FLR-001",
          "2024-10-09T01:25:00-FLR-001",
          "2024-10-09T15:44:00-FLR-001"
         ],
         "legendgroup": "classTypeNot_M",
         "marker": {
          "color": "red",
          "opacity": 0.7,
          "symbol": "circle"
         },
         "mode": "markers",
         "name": "classTypeNot_M",
         "orientation": "v",
         "showlegend": true,
         "type": "scatter",
         "x": [
          0.21666666666666667,
          1.3666666666666667,
          0.5166666666666667,
          0.31666666666666665,
          0.48333333333333334,
          2.033333333333333,
          1.3,
          0.15
         ],
         "xaxis": "x",
         "y": [
          0.6153846153846154,
          0.5487804878048781,
          0.7096774193548387,
          0.5263157894736842,
          0.3793103448275862,
          0.7213114754098361,
          0.3974358974358974,
          0.3333333333333333
         ],
         "yaxis": "y"
        }
       ],
       "layout": {
        "autosize": true,
        "legend": {
         "title": {
          "text": "Class Type"
         },
         "tracegroupgap": 0
        },
        "template": {
         "data": {
          "bar": [
           {
            "error_x": {
             "color": "#2a3f5f"
            },
            "error_y": {
             "color": "#2a3f5f"
            },
            "marker": {
             "line": {
              "color": "#E5ECF6",
              "width": 0.5
             },
             "pattern": {
              "fillmode": "overlay",
              "size": 10,
              "solidity": 0.2
             }
            },
            "type": "bar"
           }
          ],
          "barpolar": [
           {
            "marker": {
             "line": {
              "color": "#E5ECF6",
              "width": 0.5
             },
             "pattern": {
              "fillmode": "overlay",
              "size": 10,
              "solidity": 0.2
             }
            },
            "type": "barpolar"
           }
          ],
          "carpet": [
           {
            "aaxis": {
             "endlinecolor": "#2a3f5f",
             "gridcolor": "white",
             "linecolor": "white",
             "minorgridcolor": "white",
             "startlinecolor": "#2a3f5f"
            },
            "baxis": {
             "endlinecolor": "#2a3f5f",
             "gridcolor": "white",
             "linecolor": "white",
             "minorgridcolor": "white",
             "startlinecolor": "#2a3f5f"
            },
            "type": "carpet"
           }
          ],
          "choropleth": [
           {
            "colorbar": {
             "outlinewidth": 0,
             "ticks": ""
            },
            "type": "choropleth"
           }
          ],
          "contour": [
           {
            "colorbar": {
             "outlinewidth": 0,
             "ticks": ""
            },
            "colorscale": [
             [
              0,
              "#0d0887"
             ],
             [
              0.1111111111111111,
              "#46039f"
             ],
             [
              0.2222222222222222,
              "#7201a8"
             ],
             [
              0.3333333333333333,
              "#9c179e"
             ],
             [
              0.4444444444444444,
              "#bd3786"
             ],
             [
              0.5555555555555556,
              "#d8576b"
             ],
             [
              0.6666666666666666,
              "#ed7953"
             ],
             [
              0.7777777777777778,
              "#fb9f3a"
             ],
             [
              0.8888888888888888,
              "#fdca26"
             ],
             [
              1,
              "#f0f921"
             ]
            ],
            "type": "contour"
           }
          ],
          "contourcarpet": [
           {
            "colorbar": {
             "outlinewidth": 0,
             "ticks": ""
            },
            "type": "contourcarpet"
           }
          ],
          "heatmap": [
           {
            "colorbar": {
             "outlinewidth": 0,
             "ticks": ""
            },
            "colorscale": [
             [
              0,
              "#0d0887"
             ],
             [
              0.1111111111111111,
              "#46039f"
             ],
             [
              0.2222222222222222,
              "#7201a8"
             ],
             [
              0.3333333333333333,
              "#9c179e"
             ],
             [
              0.4444444444444444,
              "#bd3786"
             ],
             [
              0.5555555555555556,
              "#d8576b"
             ],
             [
              0.6666666666666666,
              "#ed7953"
             ],
             [
              0.7777777777777778,
              "#fb9f3a"
             ],
             [
              0.8888888888888888,
              "#fdca26"
             ],
             [
              1,
              "#f0f921"
             ]
            ],
            "type": "heatmap"
           }
          ],
          "heatmapgl": [
           {
            "colorbar": {
             "outlinewidth": 0,
             "ticks": ""
            },
            "colorscale": [
             [
              0,
              "#0d0887"
             ],
             [
              0.1111111111111111,
              "#46039f"
             ],
             [
              0.2222222222222222,
              "#7201a8"
             ],
             [
              0.3333333333333333,
              "#9c179e"
             ],
             [
              0.4444444444444444,
              "#bd3786"
             ],
             [
              0.5555555555555556,
              "#d8576b"
             ],
             [
              0.6666666666666666,
              "#ed7953"
             ],
             [
              0.7777777777777778,
              "#fb9f3a"
             ],
             [
              0.8888888888888888,
              "#fdca26"
             ],
             [
              1,
              "#f0f921"
             ]
            ],
            "type": "heatmapgl"
           }
          ],
          "histogram": [
           {
            "marker": {
             "pattern": {
              "fillmode": "overlay",
              "size": 10,
              "solidity": 0.2
             }
            },
            "type": "histogram"
           }
          ],
          "histogram2d": [
           {
            "colorbar": {
             "outlinewidth": 0,
             "ticks": ""
            },
            "colorscale": [
             [
              0,
              "#0d0887"
             ],
             [
              0.1111111111111111,
              "#46039f"
             ],
             [
              0.2222222222222222,
              "#7201a8"
             ],
             [
              0.3333333333333333,
              "#9c179e"
             ],
             [
              0.4444444444444444,
              "#bd3786"
             ],
             [
              0.5555555555555556,
              "#d8576b"
             ],
             [
              0.6666666666666666,
              "#ed7953"
             ],
             [
              0.7777777777777778,
              "#fb9f3a"
             ],
             [
              0.8888888888888888,
              "#fdca26"
             ],
             [
              1,
              "#f0f921"
             ]
            ],
            "type": "histogram2d"
           }
          ],
          "histogram2dcontour": [
           {
            "colorbar": {
             "outlinewidth": 0,
             "ticks": ""
            },
            "colorscale": [
             [
              0,
              "#0d0887"
             ],
             [
              0.1111111111111111,
              "#46039f"
             ],
             [
              0.2222222222222222,
              "#7201a8"
             ],
             [
              0.3333333333333333,
              "#9c179e"
             ],
             [
              0.4444444444444444,
              "#bd3786"
             ],
             [
              0.5555555555555556,
              "#d8576b"
             ],
             [
              0.6666666666666666,
              "#ed7953"
             ],
             [
              0.7777777777777778,
              "#fb9f3a"
             ],
             [
              0.8888888888888888,
              "#fdca26"
             ],
             [
              1,
              "#f0f921"
             ]
            ],
            "type": "histogram2dcontour"
           }
          ],
          "mesh3d": [
           {
            "colorbar": {
             "outlinewidth": 0,
             "ticks": ""
            },
            "type": "mesh3d"
           }
          ],
          "parcoords": [
           {
            "line": {
             "colorbar": {
              "outlinewidth": 0,
              "ticks": ""
             }
            },
            "type": "parcoords"
           }
          ],
          "pie": [
           {
            "automargin": true,
            "type": "pie"
           }
          ],
          "scatter": [
           {
            "fillpattern": {
             "fillmode": "overlay",
             "size": 10,
             "solidity": 0.2
            },
            "type": "scatter"
           }
          ],
          "scatter3d": [
           {
            "line": {
             "colorbar": {
              "outlinewidth": 0,
              "ticks": ""
             }
            },
            "marker": {
             "colorbar": {
              "outlinewidth": 0,
              "ticks": ""
             }
            },
            "type": "scatter3d"
           }
          ],
          "scattercarpet": [
           {
            "marker": {
             "colorbar": {
              "outlinewidth": 0,
              "ticks": ""
             }
            },
            "type": "scattercarpet"
           }
          ],
          "scattergeo": [
           {
            "marker": {
             "colorbar": {
              "outlinewidth": 0,
              "ticks": ""
             }
            },
            "type": "scattergeo"
           }
          ],
          "scattergl": [
           {
            "marker": {
             "colorbar": {
              "outlinewidth": 0,
              "ticks": ""
             }
            },
            "type": "scattergl"
           }
          ],
          "scattermapbox": [
           {
            "marker": {
             "colorbar": {
              "outlinewidth": 0,
              "ticks": ""
             }
            },
            "type": "scattermapbox"
           }
          ],
          "scatterpolar": [
           {
            "marker": {
             "colorbar": {
              "outlinewidth": 0,
              "ticks": ""
             }
            },
            "type": "scatterpolar"
           }
          ],
          "scatterpolargl": [
           {
            "marker": {
             "colorbar": {
              "outlinewidth": 0,
              "ticks": ""
             }
            },
            "type": "scatterpolargl"
           }
          ],
          "scatterternary": [
           {
            "marker": {
             "colorbar": {
              "outlinewidth": 0,
              "ticks": ""
             }
            },
            "type": "scatterternary"
           }
          ],
          "surface": [
           {
            "colorbar": {
             "outlinewidth": 0,
             "ticks": ""
            },
            "colorscale": [
             [
              0,
              "#0d0887"
             ],
             [
              0.1111111111111111,
              "#46039f"
             ],
             [
              0.2222222222222222,
              "#7201a8"
             ],
             [
              0.3333333333333333,
              "#9c179e"
             ],
             [
              0.4444444444444444,
              "#bd3786"
             ],
             [
              0.5555555555555556,
              "#d8576b"
             ],
             [
              0.6666666666666666,
              "#ed7953"
             ],
             [
              0.7777777777777778,
              "#fb9f3a"
             ],
             [
              0.8888888888888888,
              "#fdca26"
             ],
             [
              1,
              "#f0f921"
             ]
            ],
            "type": "surface"
           }
          ],
          "table": [
           {
            "cells": {
             "fill": {
              "color": "#EBF0F8"
             },
             "line": {
              "color": "white"
             }
            },
            "header": {
             "fill": {
              "color": "#C8D4E3"
             },
             "line": {
              "color": "white"
             }
            },
            "type": "table"
           }
          ]
         },
         "layout": {
          "annotationdefaults": {
           "arrowcolor": "#2a3f5f",
           "arrowhead": 0,
           "arrowwidth": 1
          },
          "autotypenumbers": "strict",
          "coloraxis": {
           "colorbar": {
            "outlinewidth": 0,
            "ticks": ""
           }
          },
          "colorscale": {
           "diverging": [
            [
             0,
             "#8e0152"
            ],
            [
             0.1,
             "#c51b7d"
            ],
            [
             0.2,
             "#de77ae"
            ],
            [
             0.3,
             "#f1b6da"
            ],
            [
             0.4,
             "#fde0ef"
            ],
            [
             0.5,
             "#f7f7f7"
            ],
            [
             0.6,
             "#e6f5d0"
            ],
            [
             0.7,
             "#b8e186"
            ],
            [
             0.8,
             "#7fbc41"
            ],
            [
             0.9,
             "#4d9221"
            ],
            [
             1,
             "#276419"
            ]
           ],
           "sequential": [
            [
             0,
             "#0d0887"
            ],
            [
             0.1111111111111111,
             "#46039f"
            ],
            [
             0.2222222222222222,
             "#7201a8"
            ],
            [
             0.3333333333333333,
             "#9c179e"
            ],
            [
             0.4444444444444444,
             "#bd3786"
            ],
            [
             0.5555555555555556,
             "#d8576b"
            ],
            [
             0.6666666666666666,
             "#ed7953"
            ],
            [
             0.7777777777777778,
             "#fb9f3a"
            ],
            [
             0.8888888888888888,
             "#fdca26"
            ],
            [
             1,
             "#f0f921"
            ]
           ],
           "sequentialminus": [
            [
             0,
             "#0d0887"
            ],
            [
             0.1111111111111111,
             "#46039f"
            ],
            [
             0.2222222222222222,
             "#7201a8"
            ],
            [
             0.3333333333333333,
             "#9c179e"
            ],
            [
             0.4444444444444444,
             "#bd3786"
            ],
            [
             0.5555555555555556,
             "#d8576b"
            ],
            [
             0.6666666666666666,
             "#ed7953"
            ],
            [
             0.7777777777777778,
             "#fb9f3a"
            ],
            [
             0.8888888888888888,
             "#fdca26"
            ],
            [
             1,
             "#f0f921"
            ]
           ]
          },
          "colorway": [
           "#636efa",
           "#EF553B",
           "#00cc96",
           "#ab63fa",
           "#FFA15A",
           "#19d3f3",
           "#FF6692",
           "#B6E880",
           "#FF97FF",
           "#FECB52"
          ],
          "font": {
           "color": "#2a3f5f"
          },
          "geo": {
           "bgcolor": "white",
           "lakecolor": "white",
           "landcolor": "#E5ECF6",
           "showlakes": true,
           "showland": true,
           "subunitcolor": "white"
          },
          "hoverlabel": {
           "align": "left"
          },
          "hovermode": "closest",
          "mapbox": {
           "style": "light"
          },
          "paper_bgcolor": "white",
          "plot_bgcolor": "#E5ECF6",
          "polar": {
           "angularaxis": {
            "gridcolor": "white",
            "linecolor": "white",
            "ticks": ""
           },
           "bgcolor": "#E5ECF6",
           "radialaxis": {
            "gridcolor": "white",
            "linecolor": "white",
            "ticks": ""
           }
          },
          "scene": {
           "xaxis": {
            "backgroundcolor": "#E5ECF6",
            "gridcolor": "white",
            "gridwidth": 2,
            "linecolor": "white",
            "showbackground": true,
            "ticks": "",
            "zerolinecolor": "white"
           },
           "yaxis": {
            "backgroundcolor": "#E5ECF6",
            "gridcolor": "white",
            "gridwidth": 2,
            "linecolor": "white",
            "showbackground": true,
            "ticks": "",
            "zerolinecolor": "white"
           },
           "zaxis": {
            "backgroundcolor": "#E5ECF6",
            "gridcolor": "white",
            "gridwidth": 2,
            "linecolor": "white",
            "showbackground": true,
            "ticks": "",
            "zerolinecolor": "white"
           }
          },
          "shapedefaults": {
           "line": {
            "color": "#2a3f5f"
           }
          },
          "ternary": {
           "aaxis": {
            "gridcolor": "white",
            "linecolor": "white",
            "ticks": ""
           },
           "baxis": {
            "gridcolor": "white",
            "linecolor": "white",
            "ticks": ""
           },
           "bgcolor": "#E5ECF6",
           "caxis": {
            "gridcolor": "white",
            "linecolor": "white",
            "ticks": ""
           }
          },
          "title": {
           "x": 0.05
          },
          "xaxis": {
           "automargin": true,
           "gridcolor": "white",
           "linecolor": "white",
           "ticks": "",
           "title": {
            "standoff": 15
           },
           "zerolinecolor": "white",
           "zerolinewidth": 2
          },
          "yaxis": {
           "automargin": true,
           "gridcolor": "white",
           "linecolor": "white",
           "ticks": "",
           "title": {
            "standoff": 15
           },
           "zerolinecolor": "white",
           "zerolinewidth": 2
          }
         }
        },
        "title": {
         "text": "Solar Flare Length vs Peak Position by Class Type"
        },
        "xaxis": {
         "anchor": "y",
         "autorange": true,
         "domain": [
          0,
          1
         ],
         "range": [
          -0.05320853305695901,
          2.153208533056959
         ],
         "title": {
          "text": "Duration (hours)"
         },
         "type": "linear"
        },
        "yaxis": {
         "anchor": "x",
         "autorange": true,
         "domain": [
          0,
          1
         ],
         "range": [
          0.16628910463861918,
          0.955933117583603
         ],
         "title": {
          "text": "Peak Position"
         },
         "type": "linear"
        }
       }
      },
      "image/png": "[encoded data removed]",
      "text/html": [
       "<div>                            <div id=\"70a1c02a-adb7-49af-89d3-5a54efa9eb73\" class=\"plotly-graph-div\" style=\"height:525px; width:100%;\"></div>            <script type=\"text/javascript\">                require([\"plotly\"], function(Plotly) {                    window.PLOTLYENV=window.PLOTLYENV || {};                                    if (document.getElementById(\"70a1c02a-adb7-49af-89d3-5a54efa9eb73\")) {                    Plotly.newPlot(                        \"70a1c02a-adb7-49af-89d3-5a54efa9eb73\",                        [{\"hovertemplate\":\"\\u003cb\\u003e%{hovertext}\\u003c\\u002fb\\u003e\\u003cbr\\u003e\\u003cbr\\u003eClass Type=classType_M\\u003cbr\\u003eDuration (hours)=%{x}\\u003cbr\\u003ePeak Position=%{y}\\u003cextra\\u003e\\u003c\\u002fextra\\u003e\",\"hovertext\":[\"2024-09-22T21:12:00-FLR-001\",\"2024-09-23T14:23:00-FLR-001\",\"2024-09-25T22:57:00-FLR-001\",\"2024-09-26T22:58:00-FLR-001\",\"2024-09-29T12:49:00-FLR-001\",\"2024-09-29T14:09:00-FLR-001\",\"2024-09-29T14:31:00-FLR-001\",\"2024-09-30T23:37:00-FLR-001\",\"2024-10-01T14:41:00-FLR-001\",\"2024-10-01T18:52:00-FLR-001\",\"2024-10-02T01:43:00-FLR-001\",\"2024-10-02T02:31:00-FLR-001\",\"2024-10-02T05:30:00-FLR-001\",\"2024-10-02T06:19:00-FLR-001\",\"2024-10-02T13:22:00-FLR-001\",\"2024-10-02T19:58:00-FLR-001\",\"2024-10-02T20:27:00-FLR-001\",\"2024-10-03T02:23:00-FLR-001\",\"2024-10-03T03:22:00-FLR-001\",\"2024-10-03T08:10:00-FLR-001\",\"2024-10-03T08:30:00-FLR-001\",\"2024-10-03T09:19:00-FLR-001\",\"2024-10-03T12:00:00-FLR-001\",\"2024-10-03T17:18:00-FLR-001\",\"2024-10-03T19:18:00-FLR-001\",\"2024-10-03T20:09:00-FLR-001\",\"2024-10-03T21:39:00-FLR-001\",\"2024-10-03T23:26:00-FLR-001\",\"2024-10-04T00:09:00-FLR-001\",\"2024-10-04T04:36:00-FLR-001\",\"2024-10-04T05:30:00-FLR-001\",\"2024-10-04T10:58:00-FLR-001\",\"2024-10-04T20:55:00-FLR-001\",\"2024-10-04T22:04:00-FLR-001\",\"2024-10-05T00:07:00-FLR-001\",\"2024-10-05T08:18:00-FLR-001\",\"2024-10-05T08:37:00-FLR-001\",\"2024-10-05T20:33:00-FLR-001\",\"2024-10-05T23:10:00-FLR-001\",\"2024-10-06T00:09:00-FLR-001\",\"2024-10-06T01:30:00-FLR-001\",\"2024-10-06T15:14:00-FLR-001\",\"2024-10-06T16:41:00-FLR-001\",\"2024-10-06T18:52:00-FLR-001\",\"2024-10-06T20:52:00-FLR-001\",\"2024-10-07T18:03:00-FLR-001\",\"2024-10-08T01:01:00-FLR-001\",\"2024-10-08T08:43:00-FLR-001\",\"2024-10-09T05:41:00-FLR-001\",\"2024-10-09T22:59:00-FLR-001\",\"2024-10-10T11:47:00-FLR-001\",\"2024-10-10T12:10:00-FLR-001\",\"2024-10-10T12:22:00-FLR-001\",\"2024-10-10T16:51:00-FLR-001\",\"2024-10-10T21:54:00-FLR-001\",\"2024-10-11T15:48:00-FLR-001\",\"2024-10-11T16:07:00-FLR-001\",\"2024-10-11T22:50:00-FLR-001\",\"2024-10-14T00:04:00-FLR-001\",\"2024-10-14T13:22:00-FLR-001\",\"2024-10-15T02:02:00-FLR-001\",\"2024-10-15T02:23:00-FLR-001\",\"2024-10-15T10:00:00-FLR-001\",\"2024-10-15T18:00:00-FLR-001\",\"2024-10-15T18:28:00-FLR-001\",\"2024-10-16T03:12:00-FLR-001\",\"2024-10-16T03:21:00-FLR-001\",\"2024-10-16T03:28:00-FLR-001\",\"2024-10-16T03:38:00-FLR-001\",\"2024-10-16T04:57:00-FLR-001\",\"2024-10-16T13:12:00-FLR-001\",\"2024-10-16T14:29:00-FLR-001\",\"2024-10-16T14:51:00-FLR-001\",\"2024-10-17T02:12:00-FLR-001\",\"2024-10-17T04:53:00-FLR-001\",\"2024-10-18T17:28:00-FLR-001\",\"2024-10-18T19:27:00-FLR-001\",\"2024-10-18T23:13:00-FLR-001\",\"2024-10-19T06:48:00-FLR-001\",\"2024-10-19T14:27:00-FLR-001\"],\"legendgroup\":\"classType_M\",\"marker\":{\"color\":\"blue\",\"opacity\":0.7,\"symbol\":\"circle\"},\"mode\":\"markers\",\"name\":\"classType_M\",\"orientation\":\"v\",\"showlegend\":true,\"x\":[0.8833333333333333,1.1833333333333333,0.43333333333333335,0.36666666666666664,0.15,0.36666666666666664,0.25,0.7666666666666667,0.25,0.75,0.21666666666666667,0.2,0.26666666666666666,0.15,0.6,0.48333333333333334,0.65,0.4166666666666667,0.6166666666666667,0.3333333333333333,0.18333333333333332,0.06666666666666667,0.08333333333333333,0.15,0.1,0.5166666666666667,0.15,0.06666666666666667,0.26666666666666666,0.5166666666666667,0.18333333333333332,0.3,0.3,0.23333333333333334,0.2,0.31666666666666665,0.21666666666666667,0.21666666666666667,0.3,0.3333333333333333,0.5666666666666667,0.18333333333333332,0.16666666666666666,0.2,0.9166666666666666,0.9833333333333333,0.06666666666666667,0.23333333333333334,0.35,0.36666666666666664,0.38333333333333336,0.2,0.1,0.35,1.2666666666666666,0.31666666666666665,0.65,0.7333333333333333,0.45,0.4666666666666667,0.35,0.13333333333333333,0.16666666666666666,0.4666666666666667,0.16666666666666666,0.15,0.08333333333333333,0.11666666666666667,0.35,0.5333333333333333,0.43333333333333335,0.36666666666666664,0.21666666666666667,0.43333333333333335,0.3333333333333333,0.21666666666666667,0.26666666666666666,0.4166666666666667,0.25,0.21666666666666667],\"xaxis\":\"x\",\"y\":[0.5094339622641509,0.4647887323943662,0.5769230769230769,0.6363636363636364,0.4444444444444444,0.6818181818181818,0.6666666666666666,0.4782608695652174,0.7333333333333333,0.5555555555555556,0.6923076923076923,0.6666666666666666,0.5,0.5555555555555556,0.4444444444444444,0.5862068965517241,0.6153846153846154,0.44,0.5135135135135135,0.9,0.5454545454545454,0.5,0.6,0.3333333333333333,0.5,0.6129032258064516,0.2222222222222222,0.5,0.5,0.6129032258064516,0.36363636363636365,0.2777777777777778,0.5,0.5,0.4166666666666667,0.47368421052631576,0.5384615384615384,0.5384615384615384,0.5555555555555556,0.45,0.5,0.6363636363636364,0.4,0.5833333333333334,0.4909090909090909,0.5932203389830508,0.5,0.5714285714285714,0.23809523809523808,0.5909090909090909,0.6086956521739131,0.75,0.5,0.42857142857142855,0.47368421052631576,0.8421052631578947,0.6666666666666666,0.7954545454545454,0.48148148148148145,0.5357142857142857,0.5238095238095238,0.5,0.6,0.6428571428571429,0.5,0.7777777777777778,0.4,0.42857142857142855,0.38095238095238093,0.5625,0.5769230769230769,0.5909090909090909,0.6923076923076923,0.38461538461538464,0.6,0.6153846153846154,0.6875,0.6,0.5333333333333333,0.5384615384615384],\"yaxis\":\"y\",\"type\":\"scatter\"},{\"hovertemplate\":\"\\u003cb\\u003e%{hovertext}\\u003c\\u002fb\\u003e\\u003cbr\\u003e\\u003cbr\\u003eClass Type=classTypeNot_M\\u003cbr\\u003eDuration (hours)=%{x}\\u003cbr\\u003ePeak Position=%{y}\\u003cextra\\u003e\\u003c\\u002fextra\\u003e\",\"hovertext\":[\"2024-09-26T19:41:00-FLR-001\",\"2024-09-29T05:26:00-FLR-001\",\"2024-10-01T21:58:00-FLR-001\",\"2024-10-03T12:08:00-FLR-001\",\"2024-10-07T19:02:00-FLR-001\",\"2024-10-07T19:31:00-FLR-001\",\"2024-10-09T01:25:00-FLR-001\",\"2024-10-09T15:44:00-FLR-001\"],\"legendgroup\":\"classTypeNot_M\",\"marker\":{\"color\":\"red\",\"opacity\":0.7,\"symbol\":\"circle\"},\"mode\":\"markers\",\"name\":\"classTypeNot_M\",\"orientation\":\"v\",\"showlegend\":true,\"x\":[0.21666666666666667,1.3666666666666667,0.5166666666666667,0.31666666666666665,0.48333333333333334,2.033333333333333,1.3,0.15],\"xaxis\":\"x\",\"y\":[0.6153846153846154,0.5487804878048781,0.7096774193548387,0.5263157894736842,0.3793103448275862,0.7213114754098361,0.3974358974358974,0.3333333333333333],\"yaxis\":\"y\",\"type\":\"scatter\"}],                        {\"template\":{\"data\":{\"histogram2dcontour\":[{\"type\":\"histogram2dcontour\",\"colorbar\":{\"outlinewidth\":0,\"ticks\":\"\"},\"colorscale\":[[0.0,\"#0d0887\"],[0.1111111111111111,\"#46039f\"],[0.2222222222222222,\"#7201a8\"],[0.3333333333333333,\"#9c179e\"],[0.4444444444444444,\"#bd3786\"],[0.5555555555555556,\"#d8576b\"],[0.6666666666666666,\"#ed7953\"],[0.7777777777777778,\"#fb9f3a\"],[0.8888888888888888,\"#fdca26\"],[1.0,\"#f0f921\"]]}],\"choropleth\":[{\"type\":\"choropleth\",\"colorbar\":{\"outlinewidth\":0,\"ticks\":\"\"}}],\"histogram2d\":[{\"type\":\"histogram2d\",\"colorbar\":{\"outlinewidth\":0,\"ticks\":\"\"},\"colorscale\":[[0.0,\"#0d0887\"],[0.1111111111111111,\"#46039f\"],[0.2222222222222222,\"#7201a8\"],[0.3333333333333333,\"#9c179e\"],[0.4444444444444444,\"#bd3786\"],[0.5555555555555556,\"#d8576b\"],[0.6666666666666666,\"#ed7953\"],[0.7777777777777778,\"#fb9f3a\"],[0.8888888888888888,\"#fdca26\"],[1.0,\"#f0f921\"]]}],\"heatmap\":[{\"type\":\"heatmap\",\"colorbar\":{\"outlinewidth\":0,\"ticks\":\"\"},\"colorscale\":[[0.0,\"#0d0887\"],[0.1111111111111111,\"#46039f\"],[0.2222222222222222,\"#7201a8\"],[0.3333333333333333,\"#9c179e\"],[0.4444444444444444,\"#bd3786\"],[0.5555555555555556,\"#d8576b\"],[0.6666666666666666,\"#ed7953\"],[0.7777777777777778,\"#fb9f3a\"],[0.8888888888888888,\"#fdca26\"],[1.0,\"#f0f921\"]]}],\"heatmapgl\":[{\"type\":\"heatmapgl\",\"colorbar\":{\"outlinewidth\":0,\"ticks\":\"\"},\"colorscale\":[[0.0,\"#0d0887\"],[0.1111111111111111,\"#46039f\"],[0.2222222222222222,\"#7201a8\"],[0.3333333333333333,\"#9c179e\"],[0.4444444444444444,\"#bd3786\"],[0.5555555555555556,\"#d8576b\"],[0.6666666666666666,\"#ed7953\"],[0.7777777777777778,\"#fb9f3a\"],[0.8888888888888888,\"#fdca26\"],[1.0,\"#f0f921\"]]}],\"contourcarpet\":[{\"type\":\"contourcarpet\",\"colorbar\":{\"outlinewidth\":0,\"ticks\":\"\"}}],\"contour\":[{\"type\":\"contour\",\"colorbar\":{\"outlinewidth\":0,\"ticks\":\"\"},\"colorscale\":[[0.0,\"#0d0887\"],[0.1111111111111111,\"#46039f\"],[0.2222222222222222,\"#7201a8\"],[0.3333333333333333,\"#9c179e\"],[0.4444444444444444,\"#bd3786\"],[0.5555555555555556,\"#d8576b\"],[0.6666666666666666,\"#ed7953\"],[0.7777777777777778,\"#fb9f3a\"],[0.8888888888888888,\"#fdca26\"],[1.0,\"#f0f921\"]]}],\"surface\":[{\"type\":\"surface\",\"colorbar\":{\"outlinewidth\":0,\"ticks\":\"\"},\"colorscale\":[[0.0,\"#0d0887\"],[0.1111111111111111,\"#46039f\"],[0.2222222222222222,\"#7201a8\"],[0.3333333333333333,\"#9c179e\"],[0.4444444444444444,\"#bd3786\"],[0.5555555555555556,\"#d8576b\"],[0.6666666666666666,\"#ed7953\"],[0.7777777777777778,\"#fb9f3a\"],[0.8888888888888888,\"#fdca26\"],[1.0,\"#f0f921\"]]}],\"mesh3d\":[{\"type\":\"mesh3d\",\"colorbar\":{\"outlinewidth\":0,\"ticks\":\"\"}}],\"scatter\":[{\"fillpattern\":{\"fillmode\":\"overlay\",\"size\":10,\"solidity\":0.2},\"type\":\"scatter\"}],\"parcoords\":[{\"type\":\"parcoords\",\"line\":{\"colorbar\":{\"outlinewidth\":0,\"ticks\":\"\"}}}],\"scatterpolargl\":[{\"type\":\"scatterpolargl\",\"marker\":{\"colorbar\":{\"outlinewidth\":0,\"ticks\":\"\"}}}],\"bar\":[{\"error_x\":{\"color\":\"#2a3f5f\"},\"error_y\":{\"color\":\"#2a3f5f\"},\"marker\":{\"line\":{\"color\":\"#E5ECF6\",\"width\":0.5},\"pattern\":{\"fillmode\":\"overlay\",\"size\":10,\"solidity\":0.2}},\"type\":\"bar\"}],\"scattergeo\":[{\"type\":\"scattergeo\",\"marker\":{\"colorbar\":{\"outlinewidth\":0,\"ticks\":\"\"}}}],\"scatterpolar\":[{\"type\":\"scatterpolar\",\"marker\":{\"colorbar\":{\"outlinewidth\":0,\"ticks\":\"\"}}}],\"histogram\":[{\"marker\":{\"pattern\":{\"fillmode\":\"overlay\",\"size\":10,\"solidity\":0.2}},\"type\":\"histogram\"}],\"scattergl\":[{\"type\":\"scattergl\",\"marker\":{\"colorbar\":{\"outlinewidth\":0,\"ticks\":\"\"}}}],\"scatter3d\":[{\"type\":\"scatter3d\",\"line\":{\"colorbar\":{\"outlinewidth\":0,\"ticks\":\"\"}},\"marker\":{\"colorbar\":{\"outlinewidth\":0,\"ticks\":\"\"}}}],\"scattermapbox\":[{\"type\":\"scattermapbox\",\"marker\":{\"colorbar\":{\"outlinewidth\":0,\"ticks\":\"\"}}}],\"scatterternary\":[{\"type\":\"scatterternary\",\"marker\":{\"colorbar\":{\"outlinewidth\":0,\"ticks\":\"\"}}}],\"scattercarpet\":[{\"type\":\"scattercarpet\",\"marker\":{\"colorbar\":{\"outlinewidth\":0,\"ticks\":\"\"}}}],\"carpet\":[{\"aaxis\":{\"endlinecolor\":\"#2a3f5f\",\"gridcolor\":\"white\",\"linecolor\":\"white\",\"minorgridcolor\":\"white\",\"startlinecolor\":\"#2a3f5f\"},\"baxis\":{\"endlinecolor\":\"#2a3f5f\",\"gridcolor\":\"white\",\"linecolor\":\"white\",\"minorgridcolor\":\"white\",\"startlinecolor\":\"#2a3f5f\"},\"type\":\"carpet\"}],\"table\":[{\"cells\":{\"fill\":{\"color\":\"#EBF0F8\"},\"line\":{\"color\":\"white\"}},\"header\":{\"fill\":{\"color\":\"#C8D4E3\"},\"line\":{\"color\":\"white\"}},\"type\":\"table\"}],\"barpolar\":[{\"marker\":{\"line\":{\"color\":\"#E5ECF6\",\"width\":0.5},\"pattern\":{\"fillmode\":\"overlay\",\"size\":10,\"solidity\":0.2}},\"type\":\"barpolar\"}],\"pie\":[{\"automargin\":true,\"type\":\"pie\"}]},\"layout\":{\"autotypenumbers\":\"strict\",\"colorway\":[\"#636efa\",\"#EF553B\",\"#00cc96\",\"#ab63fa\",\"#FFA15A\",\"#19d3f3\",\"#FF6692\",\"#B6E880\",\"#FF97FF\",\"#FECB52\"],\"font\":{\"color\":\"#2a3f5f\"},\"hovermode\":\"closest\",\"hoverlabel\":{\"align\":\"left\"},\"paper_bgcolor\":\"white\",\"plot_bgcolor\":\"#E5ECF6\",\"polar\":{\"bgcolor\":\"#E5ECF6\",\"angularaxis\":{\"gridcolor\":\"white\",\"linecolor\":\"white\",\"ticks\":\"\"},\"radialaxis\":{\"gridcolor\":\"white\",\"linecolor\":\"white\",\"ticks\":\"\"}},\"ternary\":{\"bgcolor\":\"#E5ECF6\",\"aaxis\":{\"gridcolor\":\"white\",\"linecolor\":\"white\",\"ticks\":\"\"},\"baxis\":{\"gridcolor\":\"white\",\"linecolor\":\"white\",\"ticks\":\"\"},\"caxis\":{\"gridcolor\":\"white\",\"linecolor\":\"white\",\"ticks\":\"\"}},\"coloraxis\":{\"colorbar\":{\"outlinewidth\":0,\"ticks\":\"\"}},\"colorscale\":{\"sequential\":[[0.0,\"#0d0887\"],[0.1111111111111111,\"#46039f\"],[0.2222222222222222,\"#7201a8\"],[0.3333333333333333,\"#9c179e\"],[0.4444444444444444,\"#bd3786\"],[0.5555555555555556,\"#d8576b\"],[0.6666666666666666,\"#ed7953\"],[0.7777777777777778,\"#fb9f3a\"],[0.8888888888888888,\"#fdca26\"],[1.0,\"#f0f921\"]],\"sequentialminus\":[[0.0,\"#0d0887\"],[0.1111111111111111,\"#46039f\"],[0.2222222222222222,\"#7201a8\"],[0.3333333333333333,\"#9c179e\"],[0.4444444444444444,\"#bd3786\"],[0.5555555555555556,\"#d8576b\"],[0.6666666666666666,\"#ed7953\"],[0.7777777777777778,\"#fb9f3a\"],[0.8888888888888888,\"#fdca26\"],[1.0,\"#f0f921\"]],\"diverging\":[[0,\"#8e0152\"],[0.1,\"#c51b7d\"],[0.2,\"#de77ae\"],[0.3,\"#f1b6da\"],[0.4,\"#fde0ef\"],[0.5,\"#f7f7f7\"],[0.6,\"#e6f5d0\"],[0.7,\"#b8e186\"],[0.8,\"#7fbc41\"],[0.9,\"#4d9221\"],[1,\"#276419\"]]},\"xaxis\":{\"gridcolor\":\"white\",\"linecolor\":\"white\",\"ticks\":\"\",\"title\":{\"standoff\":15},\"zerolinecolor\":\"white\",\"automargin\":true,\"zerolinewidth\":2},\"yaxis\":{\"gridcolor\":\"white\",\"linecolor\":\"white\",\"ticks\":\"\",\"title\":{\"standoff\":15},\"zerolinecolor\":\"white\",\"automargin\":true,\"zerolinewidth\":2},\"scene\":{\"xaxis\":{\"backgroundcolor\":\"#E5ECF6\",\"gridcolor\":\"white\",\"linecolor\":\"white\",\"showbackground\":true,\"ticks\":\"\",\"zerolinecolor\":\"white\",\"gridwidth\":2},\"yaxis\":{\"backgroundcolor\":\"#E5ECF6\",\"gridcolor\":\"white\",\"linecolor\":\"white\",\"showbackground\":true,\"ticks\":\"\",\"zerolinecolor\":\"white\",\"gridwidth\":2},\"zaxis\":{\"backgroundcolor\":\"#E5ECF6\",\"gridcolor\":\"white\",\"linecolor\":\"white\",\"showbackground\":true,\"ticks\":\"\",\"zerolinecolor\":\"white\",\"gridwidth\":2}},\"shapedefaults\":{\"line\":{\"color\":\"#2a3f5f\"}},\"annotationdefaults\":{\"arrowcolor\":\"#2a3f5f\",\"arrowhead\":0,\"arrowwidth\":1},\"geo\":{\"bgcolor\":\"white\",\"landcolor\":\"#E5ECF6\",\"subunitcolor\":\"white\",\"showland\":true,\"showlakes\":true,\"lakecolor\":\"white\"},\"title\":{\"x\":0.05},\"mapbox\":{\"style\":\"light\"}}},\"xaxis\":{\"anchor\":\"y\",\"domain\":[0.0,1.0],\"title\":{\"text\":\"Duration (hours)\"}},\"yaxis\":{\"anchor\":\"x\",\"domain\":[0.0,1.0],\"title\":{\"text\":\"Peak Position\"}},\"legend\":{\"title\":{\"text\":\"Class Type\"},\"tracegroupgap\":0},\"title\":{\"text\":\"Solar Flare Length vs Peak Position by Class Type\"}},                        {\"responsive\": true}                    ).then(function(){\n",
       "                            \n",
       "var gd = document.getElementById('70a1c02a-adb7-49af-89d3-5a54efa9eb73');\n",
       "var x = new MutationObserver(function (mutations, observer) {{\n",
       "        var display = window.getComputedStyle(gd).display;\n",
       "        if (!display || display === 'none') {{\n",
       "            console.log([gd, 'removed!']);\n",
       "            Plotly.purge(gd);\n",
       "            observer.disconnect();\n",
       "        }}\n",
       "}});\n",
       "\n",
       "// Listen for the removal of the full notebook cells\n",
       "var notebookContainer = gd.closest('#notebook-container');\n",
       "if (notebookContainer) {{\n",
       "    x.observe(notebookContainer, {childList: true});\n",
       "}}\n",
       "\n",
       "// Listen for the clearing of the current output cell\n",
       "var outputEl = gd.closest('.output');\n",
       "if (outputEl) {{\n",
       "    x.observe(outputEl, {childList: true});\n",
       "}}\n",
       "\n",
       "                        })                };                });            </script>        </div>"
      ]
     },
     "metadata": {},
     "output_type": "display_data"
    }
   ],
   "source": [
    "# melting the dataframe from wide rows to long columns\n",
    "df_sorted = df.melt(id_vars=['flrID', 'peakPosition', 'length'], value_vars=['classType_M', 'classTypeNot_M'], var_name='ClassType', value_name='Presence')\n",
    "\n",
    "# filter the dataframe to only include rows where the class type is present\n",
    "df_sorted = df_sorted[df_sorted['Presence'] == 1]\n",
    "\n",
    "# convert length to hours so it can be represented as a floating-point\n",
    "df_sorted['length_hours'] = df_sorted['length'].dt.total_seconds() / 3600\n",
    "\n",
    "# assign colors based on class type to be called later in figure\n",
    "color_map = {'classType_M': 'blue', 'classTypeNot_M': 'red'}\n",
    "\n",
    "# create the scatter plot\n",
    "fig = px.scatter(\n",
    "    df_sorted,\n",
    "    x='length_hours',\n",
    "    y='peakPosition',\n",
    "    color='ClassType',\n",
    "    hover_name='flrID',\n",
    "    title='Solar Flare Length vs Peak Position by Class Type',\n",
    "    labels={\n",
    "        'length_hours': 'Duration (hours)',\n",
    "        'peakPosition': 'Peak Position',\n",
    "        'ClassType': 'Class Type'\n",
    "    },\n",
    "    color_discrete_map=color_map,\n",
    "    opacity=0.7\n",
    ")\n",
    "\n",
    "fig.show()"
   ]
  },
  {
   "cell_type": "code",
   "execution_count": 61,
   "id": "2dd32f3f-9b42-42bf-b7b2-d2eafd0678be",
   "metadata": {},
   "outputs": [],
   "source": [
    "import numpy as np\n",
    "def add_bias_column(X):\n",
    "    \"\"\"\n",
    "    Args:\n",
    "        X (array): can be either 1-d or 2-d\n",
    "    \n",
    "    Returns:\n",
    "        Xnew (array): the same array, but 2-d with a column of 1's in the first spot\n",
    "    \"\"\"\n",
    "    \n",
    "    # If the array is 1-d\n",
    "    if len(X.shape) == 1:\n",
    "        Xnew = np.column_stack([np.ones(X.shape[0]), X])\n",
    "    \n",
    "    # If the array is 2-d\n",
    "    elif len(X.shape) == 2:\n",
    "        bias_col = np.ones((X.shape[0], 1))\n",
    "        Xnew = np.hstack([bias_col, X])\n",
    "        \n",
    "    else:\n",
    "        raise ValueError(\"Input array must be either 1-d or 2-d\")\n",
    "\n",
    "    return Xnew"
   ]
  },
  {
   "cell_type": "code",
   "execution_count": 63,
   "id": "8612d2f2-77c2-4be3-98d5-f70b2c1529df",
   "metadata": {},
   "outputs": [],
   "source": [
    "def line_of_best_fit(X, y):\n",
    "    \"\"\"\n",
    "    Args:\n",
    "        X (array): can be either 1-d or 2-d\n",
    "        y (array): can be 1-d\n",
    "    \n",
    "    Returns:\n",
    "        m : returns the line of best fit\n",
    "    \"\"\"\n",
    "    \n",
    "    X = add_bias_column(X)\n",
    "    XtXinv = np.linalg.inv(np.matmul(X.T, X))\n",
    "    m = np.matmul(XtXinv, np.matmul(X.T, y))\n",
    "    \n",
    "    return m"
   ]
  },
  {
   "cell_type": "code",
   "execution_count": 65,
   "id": "c08b587d-ea5f-41fd-9ea6-72b95a360516",
   "metadata": {},
   "outputs": [],
   "source": [
    "def linreg_predict(Xnew, ynew, m) :\n",
    "    \"\"\"\n",
    "    Args:\n",
    "        Xnew (array): can be a 1-d or 2-d array\n",
    "        ynew (array): can be 1-d \n",
    "        m (array\n",
    "    \n",
    "    Returns:\n",
    "        dict (dict) : returns the dictionary of the linreg predictions\n",
    "    \"\"\"\n",
    "    \n",
    "    Xnew = add_bias_column(Xnew)\n",
    "    ypreds = np.dot(Xnew, m)\n",
    "    res = ynew - ypreds\n",
    "    \n",
    "    dict = {\n",
    "        'ypreds': ypreds,\n",
    "        'resids': res,\n",
    "        'mse': (res**2).mean(),\n",
    "        'r2': r2_score(ynew, ypreds),\n",
    "    }\n",
    "\n",
    "    return dict"
   ]
  },
  {
   "cell_type": "code",
   "execution_count": 67,
   "id": "94cb3fa1-2657-4aa2-920b-e8401dc915aa",
   "metadata": {},
   "outputs": [],
   "source": [
    "df['peakTime'] = pd.to_datetime(df['peakTime'], errors='coerce')  # Ensure datetime format\n",
    "df['peakTime'] = (df['peakTime'] - df['peakTime'].min()).dt.total_seconds()  # Convert to seconds\n",
    "df = df.dropna(subset=['peakTime'])\n",
    "\n",
    "df['length'] = (df['length'] - df['length'].mean()) / df['length'].std()\n",
    "df['classType_M'] = (df['classType_M'] - df['classType_M'].mean()) / df['classType_M'].std()\n",
    "\n",
    "X = df[['length', 'classType_M']].to_numpy()\n",
    "y = df['peakTime'].to_numpy()"
   ]
  },
  {
   "cell_type": "code",
   "execution_count": 69,
   "id": "9cc748b7-daa2-4cfb-b59e-604969c6bd57",
   "metadata": {},
   "outputs": [
    {
     "data": {
      "text/plain": [
       "array([1268825.09968115,  -92671.88661512,   67726.71109048])"
      ]
     },
     "execution_count": 69,
     "metadata": {},
     "output_type": "execute_result"
    }
   ],
   "source": [
    "from sklearn.model_selection import train_test_split\n",
    "\n",
    "## This uses cross validation to get the line of best fit\n",
    "crossval = train_test_split(X, \n",
    "                            y,\n",
    "                            test_size=0.3,\n",
    "                           )\n",
    "\n",
    "Xtrain, Xtest, ytrain, ytest = crossval\n",
    "w = line_of_best_fit(Xtrain, ytrain)\n",
    "w"
   ]
  },
  {
   "cell_type": "code",
   "execution_count": 71,
   "id": "d585c3ab-cb8b-42f8-ab29-0abbd05c5f70",
   "metadata": {},
   "outputs": [],
   "source": [
    "from sklearn.metrics import r2_score\n",
    "res = linreg_predict(Xtest, ytest, w)\n",
    "res['resids'] = res['resids'] / 1e6"
   ]
  },
  {
   "cell_type": "code",
   "execution_count": 73,
   "id": "88fdc770-98be-4643-a4fb-6fd8f7db553c",
   "metadata": {},
   "outputs": [
    {
     "data": {
      "image/png": "[encoded data removed]",
      "text/plain": [
       "<Figure size 640x480 with 1 Axes>"
      ]
     },
     "metadata": {},
     "output_type": "display_data"
    }
   ],
   "source": [
    "import matplotlib.pyplot as plt\n",
    "\n",
    "## This gives us a scatter plot comparing the index and residual\n",
    "plt.scatter(range(len(res['resids'])), res['resids'])\n",
    "plt.xlabel(\"index\")\n",
    "plt.ylabel(\"residuals\")\n",
    "plt.axhline(0, color='black', linestyle='--', linewidth=1)  \n",
    "plt.title(\"residual plot vs. order\")\n",
    "plt.show()"
   ]
  },
  {
   "cell_type": "code",
   "execution_count": 75,
   "id": "c27a07f3-a527-41ad-9d3f-3fbec752a6c3",
   "metadata": {},
   "outputs": [
    {
     "data": {
      "image/png": "[encoded data removed]",
      "text/plain": [
       "<Figure size 640x480 with 1 Axes>"
      ]
     },
     "metadata": {},
     "output_type": "display_data"
    }
   ],
   "source": [
    "x = Xtest[:, 0]\n",
    "plt.scatter(res['resids'], x)\n",
    "plt.xlabel(\"Length\")\n",
    "plt.ylabel(\"Resids\")\n",
    "plt.axhline(0, color='black', linestyle='--', linewidth=1)  \n",
    "plt.title(\"Length vs Residual values\")\n",
    "plt.show()"
   ]
  },
  {
   "cell_type": "code",
   "execution_count": 77,
   "id": "cf3789dd-cc3d-4e69-8f30-f32b5a44417b",
   "metadata": {},
   "outputs": [
    {
     "data": {
      "image/png": "[encoded data removed]",
      "text/plain": [
       "<Figure size 640x480 with 1 Axes>"
      ]
     },
     "metadata": {},
     "output_type": "display_data"
    }
   ],
   "source": [
    "## Compares the Class Type M to the Residual values\n",
    "x = Xtest[:, 1]  \n",
    "plt.scatter(res['resids'], x) \n",
    "plt.axhline(0, color='black', linestyle='--', linewidth=1)  \n",
    "plt.xlabel(\"Class Type M\")  \n",
    "plt.ylabel(\"Residuals\")  \n",
    "plt.title(\"Class Type M vs Residual values\") \n",
    "plt.show()"
   ]
  },
  {
   "cell_type": "code",
   "execution_count": 79,
   "id": "0e07af64-0da2-4362-896d-7f2357e2f9bc",
   "metadata": {},
   "outputs": [
    {
     "data": {
      "text/plain": [
       "(array([1., 0., 2., 7., 5., 0., 5., 0., 1., 6.]),\n",
       " array([-0.9477534, -0.7780134, -0.6082734, -0.4385334, -0.2687934,\n",
       "        -0.0990534,  0.0706866,  0.2404266,  0.4101666,  0.5799066,\n",
       "         0.7496466]),\n",
       " <BarContainer object of 10 artists>)"
      ]
     },
     "execution_count": 79,
     "metadata": {},
     "output_type": "execute_result"
    },
    {
     "data": {
      "image/png": "[encoded data removed]",
      "text/plain": [
       "<Figure size 640x480 with 1 Axes>"
      ]
     },
     "metadata": {},
     "output_type": "display_data"
    }
   ],
   "source": [
    "## Plots the histo\n",
    "plt.hist(res['resids'])"
   ]
  },
  {
   "cell_type": "markdown",
   "id": "ccef7a6d-e5da-4429-a434-b90b7908597a",
   "metadata": {},
   "source": [
    "## Discussion of preliminary results"
   ]
  },
  {
   "cell_type": "code",
   "execution_count": 82,
   "id": "f56a8dfa-e933-4c15-b5c4-17f927b0da63",
   "metadata": {},
   "outputs": [
    {
     "data": {
      "image/png": "[encoded data removed]",
      "text/plain": [
       "<Figure size 800x500 with 1 Axes>"
      ]
     },
     "metadata": {},
     "output_type": "display_data"
    }
   ],
   "source": [
    "# Checking for assumptions\n",
    "\n",
    "import matplotlib.pyplot as plt\n",
    "import seaborn as sns\n",
    "\n",
    "plt.figure(figsize=(8, 5))\n",
    "sns.histplot(df['peakPosition'], kde=True, bins=10, color='blue')\n",
    "\n",
    "plt.title('Distribution of Peak Position', fontsize=16)\n",
    "plt.xlabel('Peak Position', fontsize=14)\n",
    "plt.ylabel('Frequency', fontsize=14)\n",
    "\n",
    "plt.grid(axis='y', linestyle='--', alpha=0.7)\n",
    "plt.show()"
   ]
  },
  {
   "cell_type": "markdown",
   "id": "efe76a9a-f7e8-473d-9d33-8860f12b2d8b",
   "metadata": {},
   "source": [
    "The distribution graph of peakPosition checks whether this feature has variability to be a good predictor in the model. It evaluates the shape of the distribution to ensure values are spread across a reasonable range and not heavily clustered or skewed, while also highlighting any potential outliers that might affect model performance and whether transformations might be needed to stabilize variance. This graph also checks key assumptions, such as whether peakPosition is well-distributed and meaningful for modeling, ensuring it has enough variability, lacks extreme outliers, and does not significant skewness. The distribution graph of peakPosition reveals that the values are fairly evenly distributed between approximately 0.44 and 0.68, with no extreme outliers. This suggests that flare peaks occur at various times within their durations without strong clustering towards the start or end, and the feature is likely suitable for modeling without requiring transformation."
   ]
  },
  {
   "cell_type": "markdown",
   "id": "44154e8d-a4ac-4425-aefd-15828dc1407c",
   "metadata": {},
   "source": [
    "- Proof of concept: We implemented two preliminary models to explore the relationships in our solar flare dataset. First, a linear regression model was developed to predict the length of a solar flare (length) based on its class type (classType_C, classType_M, classType_X) and the relative position of its peak (peakPosition). Our initial results showed a moderate correlation between flare class and duration, with higher-intensity flares (ex: X-class) generally lasting longer. However, peakPosition had weak predictive power, most likely due to its relatively uniform distribution across the dataset. We also tested a classification model, such as logistic regression or decision trees, to predict the flare’s class type (C, M, or X) using length and peakPosition. This model performed well in identifying M-class flares, which dominate the dataset, but faced challenges in distinguishing between C-class and M-class flares when their lengths overlapped. X-class flares, being more distinct, were identified with higher accuracy. To support these findings, visualizations of length and peakPosition distributions revealed a positive skew in flare lengths—indicating most flares are short with a few outliers—and a fairly even distribution of peak positions.\n",
    "\n",
    "- Ethical Considerations: This project uses a dataset from NASA’s public API, which is transparent, reliable, and ethical. Since the data doesn’t contain sensitive information, any privacy concerns are significantly reduced. Public datasets like this are designed to support research and education, so it is an ideal and ethical choice for our analysis. However, there are still ethical challenges to keep in mind, especially when it comes to feature engineering and modeling. For example, if the model relies heavily on class type (C, M, or X) to make predictions, we need to ensure that this relationship reflects real scientific patterns. It should not just be a result of how the data was structured or processed, like having more examples of one class than another or biases introduced during cleaning. Ignoring these issues could lead to conclusions that misrepresent the actual results. It’s also important to think about how we present and share our findings, making sure we clearly explain any assumptions or limitations to avoid future misuse or misinterpretation of the analysis."
   ]
  },
  {
   "cell_type": "markdown",
   "id": "ab67b0c8-e790-4177-a89d-d7a9bfd86663",
   "metadata": {},
   "source": [
    "## ML"
   ]
  },
  {
   "cell_type": "code",
   "execution_count": 111,
   "id": "ab7100a9-c042-4fd1-aa6b-cf11d3eebf40",
   "metadata": {},
   "outputs": [
    {
     "data": {
      "text/html": [
       "<div>\n",
       "<style scoped>\n",
       "    .dataframe tbody tr th:only-of-type {\n",
       "        vertical-align: middle;\n",
       "    }\n",
       "\n",
       "    .dataframe tbody tr th {\n",
       "        vertical-align: top;\n",
       "    }\n",
       "\n",
       "    .dataframe thead th {\n",
       "        text-align: right;\n",
       "    }\n",
       "</style>\n",
       "<table border=\"1\" class=\"dataframe\">\n",
       "  <thead>\n",
       "    <tr style=\"text-align: right;\">\n",
       "      <th></th>\n",
       "      <th>classType</th>\n",
       "      <th>length</th>\n",
       "      <th>peakPosition</th>\n",
       "    </tr>\n",
       "  </thead>\n",
       "  <tbody>\n",
       "    <tr>\n",
       "      <th>0</th>\n",
       "      <td>1</td>\n",
       "      <td>3180.0</td>\n",
       "      <td>0.509434</td>\n",
       "    </tr>\n",
       "    <tr>\n",
       "      <th>1</th>\n",
       "      <td>1</td>\n",
       "      <td>4260.0</td>\n",
       "      <td>0.464789</td>\n",
       "    </tr>\n",
       "    <tr>\n",
       "      <th>2</th>\n",
       "      <td>1</td>\n",
       "      <td>1560.0</td>\n",
       "      <td>0.576923</td>\n",
       "    </tr>\n",
       "    <tr>\n",
       "      <th>3</th>\n",
       "      <td>0</td>\n",
       "      <td>780.0</td>\n",
       "      <td>0.615385</td>\n",
       "    </tr>\n",
       "    <tr>\n",
       "      <th>4</th>\n",
       "      <td>1</td>\n",
       "      <td>1320.0</td>\n",
       "      <td>0.636364</td>\n",
       "    </tr>\n",
       "    <tr>\n",
       "      <th>...</th>\n",
       "      <td>...</td>\n",
       "      <td>...</td>\n",
       "      <td>...</td>\n",
       "    </tr>\n",
       "    <tr>\n",
       "      <th>83</th>\n",
       "      <td>1</td>\n",
       "      <td>780.0</td>\n",
       "      <td>0.615385</td>\n",
       "    </tr>\n",
       "    <tr>\n",
       "      <th>84</th>\n",
       "      <td>1</td>\n",
       "      <td>960.0</td>\n",
       "      <td>0.687500</td>\n",
       "    </tr>\n",
       "    <tr>\n",
       "      <th>85</th>\n",
       "      <td>1</td>\n",
       "      <td>1500.0</td>\n",
       "      <td>0.600000</td>\n",
       "    </tr>\n",
       "    <tr>\n",
       "      <th>86</th>\n",
       "      <td>1</td>\n",
       "      <td>900.0</td>\n",
       "      <td>0.533333</td>\n",
       "    </tr>\n",
       "    <tr>\n",
       "      <th>87</th>\n",
       "      <td>1</td>\n",
       "      <td>780.0</td>\n",
       "      <td>0.538462</td>\n",
       "    </tr>\n",
       "  </tbody>\n",
       "</table>\n",
       "<p>88 rows × 3 columns</p>\n",
       "</div>"
      ],
      "text/plain": [
       "    classType  length  peakPosition\n",
       "0           1  3180.0      0.509434\n",
       "1           1  4260.0      0.464789\n",
       "2           1  1560.0      0.576923\n",
       "3           0   780.0      0.615385\n",
       "4           1  1320.0      0.636364\n",
       "..        ...     ...           ...\n",
       "83          1   780.0      0.615385\n",
       "84          1   960.0      0.687500\n",
       "85          1  1500.0      0.600000\n",
       "86          1   900.0      0.533333\n",
       "87          1   780.0      0.538462\n",
       "\n",
       "[88 rows x 3 columns]"
      ]
     },
     "execution_count": 111,
     "metadata": {},
     "output_type": "execute_result"
    }
   ],
   "source": [
    "from datetime import datetime\n",
    "from sklearn.model_selection import train_test_split\n",
    "from sklearn.preprocessing import StandardScaler, PolynomialFeatures\n",
    "from sklearn.linear_model import LinearRegression\n",
    "from sklearn.metrics import mean_squared_error, r2_score\n",
    "import pandas as pd\n",
    "\n",
    "df = pd.DataFrame(data)\n",
    "\n",
    "# turns classType into one character\n",
    "df['classType'] = df['classType'].apply(lambda x: x[:1])\n",
    "df['classType'] = df['classType'].apply(lambda x: 1 if x == 'M' else 0)\n",
    "\n",
    "# converts time strings into datetime objects\n",
    "df['beginTime'] = df['beginTime'].apply(lambda x: datetime.fromisoformat(x))\n",
    "df['peakTime'] = df['peakTime'].apply(lambda x: datetime.fromisoformat(x))\n",
    "df['endTime'] = df['endTime'].apply(lambda x: datetime.fromisoformat(x))\n",
    "\n",
    "# determines length of each solar flare in seconds\n",
    "df['length'] = (df['endTime'] - df['beginTime']).dt.total_seconds()\n",
    "\n",
    "# determines when the peak occurred \n",
    "df['peakPosition'] = (df['peakTime'] - df['beginTime']).dt.total_seconds() / df['length']\n",
    "\n",
    "df = df.drop(columns=['instruments', 'sourceLocation', 'activeRegionNum',\n",
    "                     'note', 'submissionTime', 'versionId', 'link', 'linkedEvents',\n",
    "                     'flrID', 'catalog', 'beginTime', 'peakTime', 'endTime',], axis=1)\n",
    "df"
   ]
  },
  {
   "cell_type": "code",
   "execution_count": null,
   "id": "86a49efd-a4fd-4b3b-8b1c-4c80aeefacad",
   "metadata": {},
   "outputs": [],
   "source": []
  },
  {
   "cell_type": "markdown",
   "id": "c6d41605-bdcc-4d83-97e3-63814f87915d",
   "metadata": {},
   "source": [
    "# Polynomial Regression Model"
   ]
  },
  {
   "cell_type": "code",
   "execution_count": 115,
   "id": "96ffac14-5858-45cf-bd5f-4723631e1aaf",
   "metadata": {},
   "outputs": [
    {
     "name": "stdout",
     "output_type": "stream",
     "text": [
      "Train R²: 0.077, Test R²: -0.000\n",
      "Train MSE: 0.015, Test MSE: 0.011\n"
     ]
    },
    {
     "name": "stderr",
     "output_type": "stream",
     "text": [
      "/opt/anaconda3/lib/python3.12/site-packages/sklearn/base.py:493: UserWarning:\n",
      "\n",
      "X does not have valid feature names, but StandardScaler was fitted with feature names\n",
      "\n"
     ]
    },
    {
     "data": {
      "image/png": "[encoded data removed]",
      "text/plain": [
       "<Figure size 640x480 with 1 Axes>"
      ]
     },
     "metadata": {},
     "output_type": "display_data"
    }
   ],
   "source": [
    "from sklearn.preprocessing import PolynomialFeatures, StandardScaler\n",
    "from sklearn.linear_model import LinearRegression\n",
    "from sklearn.model_selection import train_test_split\n",
    "from sklearn.metrics import mean_squared_error, r2_score\n",
    "import matplotlib.pyplot as plt\n",
    "import numpy as np\n",
    "\n",
    "X = df[['length', 'classType']]\n",
    "y = df['peakPosition']\n",
    "\n",
    "X_train, X_test, y_train, y_test = train_test_split(X, y, test_size=0.2, random_state=1)\n",
    "\n",
    "scaler = StandardScaler()\n",
    "X_train_scaled = scaler.fit_transform(X_train)\n",
    "X_test_scaled = scaler.transform(X_test)\n",
    "\n",
    "# turns into polynomial\n",
    "degree = 3\n",
    "poly = PolynomialFeatures(degree=degree, include_bias=False)\n",
    "X_train_poly = poly.fit_transform(X_train_scaled)\n",
    "X_test_poly = poly.transform(X_test_scaled)\n",
    "\n",
    "# regression model \n",
    "model = LinearRegression()\n",
    "model.fit(X_train_poly, y_train)\n",
    "\n",
    "# predictions\n",
    "y_train_pred = model.predict(X_train_poly)\n",
    "y_test_pred = model.predict(X_test_poly)\n",
    "\n",
    "# evaluations \n",
    "train_r2 = r2_score(y_train, y_train_pred)\n",
    "test_r2 = r2_score(y_test, y_test_pred)\n",
    "train_mse = mean_squared_error(y_train, y_train_pred)\n",
    "test_mse = mean_squared_error(y_test, y_test_pred)\n",
    "\n",
    "print(f\"Train R²: {train_r2:.3f}, Test R²: {test_r2:.3f}\")\n",
    "print(f\"Train MSE: {train_mse:.3f}, Test MSE: {test_mse:.3f}\")\n",
    "\n",
    "# visualization\n",
    "# 0 refers to length (makes length the x axis)\n",
    "feature_index = 0\n",
    "colors = ['blue' if class_type == 0 else 'red' for class_type in X_train['classType']]\n",
    "\n",
    "# plot\n",
    "plt.scatter(X_train['length'], y_train, c=colors, label='Training Data')\n",
    "\n",
    "# predictions for plot\n",
    "X_plot = np.linspace(X_train['length'].min(), X_train['length'].max(), 100).reshape(-1, 1)\n",
    "X_plot_full = np.hstack([X_plot, np.zeros_like(X_plot)])  # Add 'classType' as 0 for plotting\n",
    "X_plot_full_scaled = scaler.transform(X_plot_full)\n",
    "X_plot_poly = poly.transform(X_plot_full_scaled)\n",
    "y_plot = model.predict(X_plot_poly)\n",
    "\n",
    "# polynomial regression curve\n",
    "plt.plot(X_plot, y_plot, color='green', linewidth=2, label='Polynomial Regression')\n",
    "\n",
    "# labels/title\n",
    "plt.xlabel('Length')\n",
    "plt.ylabel('Peak Position')\n",
    "plt.title(f'Polynomial Regression (Degree={degree})')\n",
    "plt.legend()\n",
    "plt.show()"
   ]
  },
  {
   "cell_type": "markdown",
   "id": "3930d40d-05c2-4dfd-97e7-8fbe764a95ec",
   "metadata": {},
   "source": [
    "# Linear Regression Model"
   ]
  },
  {
   "cell_type": "code",
   "execution_count": 141,
   "id": "7d0e38e8-79ec-4310-9350-898f65c8678f",
   "metadata": {},
   "outputs": [
    {
     "name": "stdout",
     "output_type": "stream",
     "text": [
      "MSE = 0.011319347914242902\n",
      "r2 = -0.011175928832203752\n"
     ]
    }
   ],
   "source": [
    "X_train_feature = X_train.iloc[:, 0].values.reshape(-1, 1)  \n",
    "X_test_feature = X_test.iloc[:, 0].values.reshape(-1, 1)    \n",
    "\n",
    "# Linear Regression Model\n",
    "model = LinearRegression()\n",
    "model.fit(X_train_feature, y_train)\n",
    "\n",
    "# Predict on the test data using the trained model\n",
    "pred = model.predict(X_test_feature)\n",
    "\n",
    "# Calculate residuals\n",
    "residuals = y_test - pred\n",
    "\n",
    "# Calculate MSE and R2\n",
    "MSE = (residuals**2).mean()\n",
    "r2 = 1 - (MSE / y_test.var())\n",
    "\n",
    "print(f\"MSE = {MSE}\")\n",
    "print(f\"r2 = {r2}\")"
   ]
  },
  {
   "cell_type": "code",
   "execution_count": 137,
   "id": "f616c8cf-a625-4870-8c41-fef0f5f0a01c",
   "metadata": {},
   "outputs": [
    {
     "data": {
      "image/png": "[encoded data removed]",
      "text/plain": [
       "<Figure size 640x480 with 1 Axes>"
      ]
     },
     "metadata": {},
     "output_type": "display_data"
    }
   ],
   "source": [
    "import matplotlib.pyplot as plt\n",
    "import numpy as np\n",
    "\n",
    "feature_index = 0\n",
    "colors = ['blue' if class_type == 0 else 'red' for class_type in X_train['classType']]\n",
    "\n",
    "# Create a range of values for plotting the regression line\n",
    "X_line = np.linspace(X_train_feature.min(), X_train_feature.max(), 100).reshape(-1, 1)\n",
    "y_line = model.predict(X_line)\n",
    "\n",
    "# plot\n",
    "plt.scatter(X_train['length'], y_train, c=colors, label='Training Data')\n",
    "\n",
    "plt.plot(X_line, y_line, color='green', linewidth=2, label='Linear Regression Line')\n",
    "\n",
    "# Add labels and title\n",
    "plt.xlabel('Length')\n",
    "plt.ylabel('Peak Position')\n",
    "plt.title('Linear Regression')\n",
    "plt.legend()\n",
    "plt.show()"
   ]
  },
  {
   "cell_type": "code",
   "execution_count": null,
   "id": "29c1dd85-5659-4cfe-ab35-02e271cf44ff",
   "metadata": {},
   "outputs": [],
   "source": []
  }
 ],
 "metadata": {
  "kernelspec": {
   "display_name": "Python 3 (ipykernel)",
   "language": "python",
   "name": "python3"
  },
  "language_info": {
   "codemirror_mode": {
    "name": "ipython",
    "version": 3
   },
   "file_extension": ".py",
   "mimetype": "text/x-python",
   "name": "python",
   "nbconvert_exporter": "python",
   "pygments_lexer": "ipython3",
   "version": "3.12.4"
  }
 },
 "nbformat": 4,
 "nbformat_minor": 5
}
