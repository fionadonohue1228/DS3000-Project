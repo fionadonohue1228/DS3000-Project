{
 "cells": [
  {
   "cell_type": "markdown",
   "id": "ba3027c2-7779-4781-a0af-899f35443d87",
   "metadata": {},
   "source": [
    "# Phase III: First ML Proof of Concept\n",
    "## Solar Flares Peaks and Lengths\n",
    "\n",
    " - Baer Istok\n",
    " - Fiona Donohue\n",
    " - Harshini Moon\n",
    " - Evelyn Fabel"
   ]
  },
  {
   "cell_type": "code",
   "execution_count": 2,
   "id": "d0d1013d-e7c7-44f6-addc-fe8256c7ca4d",
   "metadata": {},
   "outputs": [],
   "source": [
    "import requests\n",
    "import pandas as pd\n",
    "import numpy as np\n",
    "\n",
    "api_key = 'f2asD6aVakycwYB4bQd6ANE3shr74umMDWTurH5x'\n",
    "end_date = '2024-10-20'\n",
    "start_date = '2024-09-20'\n",
    "\n",
    "\n",
    "url = f'https://api.nasa.gov/DONKI/FLR?startDate={start_date}&endDate={end_date}&api_key={api_key}'\n",
    "\n",
    "# Retrieves the data\n",
    "response = requests.get(url)\n",
    "\n",
    "# Stores the retreived data in a list\n",
    "data = response.json()"
   ]
  },
  {
   "cell_type": "code",
   "execution_count": 3,
   "id": "7e8ebfdb-be45-4a0f-a266-5bfe3499c978",
   "metadata": {},
   "outputs": [
    {
     "data": {
      "text/html": [
       "<div>\n",
       "<style scoped>\n",
       "    .dataframe tbody tr th:only-of-type {\n",
       "        vertical-align: middle;\n",
       "    }\n",
       "\n",
       "    .dataframe tbody tr th {\n",
       "        vertical-align: top;\n",
       "    }\n",
       "\n",
       "    .dataframe thead th {\n",
       "        text-align: right;\n",
       "    }\n",
       "</style>\n",
       "<table border=\"1\" class=\"dataframe\">\n",
       "  <thead>\n",
       "    <tr style=\"text-align: right;\">\n",
       "      <th></th>\n",
       "      <th>classType</th>\n",
       "      <th>length</th>\n",
       "      <th>peakPosition</th>\n",
       "    </tr>\n",
       "  </thead>\n",
       "  <tbody>\n",
       "    <tr>\n",
       "      <th>0</th>\n",
       "      <td>1</td>\n",
       "      <td>3180.0</td>\n",
       "      <td>0.509434</td>\n",
       "    </tr>\n",
       "    <tr>\n",
       "      <th>1</th>\n",
       "      <td>1</td>\n",
       "      <td>4260.0</td>\n",
       "      <td>0.464789</td>\n",
       "    </tr>\n",
       "    <tr>\n",
       "      <th>2</th>\n",
       "      <td>1</td>\n",
       "      <td>1560.0</td>\n",
       "      <td>0.576923</td>\n",
       "    </tr>\n",
       "    <tr>\n",
       "      <th>3</th>\n",
       "      <td>0</td>\n",
       "      <td>780.0</td>\n",
       "      <td>0.615385</td>\n",
       "    </tr>\n",
       "    <tr>\n",
       "      <th>4</th>\n",
       "      <td>1</td>\n",
       "      <td>1320.0</td>\n",
       "      <td>0.636364</td>\n",
       "    </tr>\n",
       "    <tr>\n",
       "      <th>...</th>\n",
       "      <td>...</td>\n",
       "      <td>...</td>\n",
       "      <td>...</td>\n",
       "    </tr>\n",
       "    <tr>\n",
       "      <th>83</th>\n",
       "      <td>1</td>\n",
       "      <td>780.0</td>\n",
       "      <td>0.615385</td>\n",
       "    </tr>\n",
       "    <tr>\n",
       "      <th>84</th>\n",
       "      <td>1</td>\n",
       "      <td>960.0</td>\n",
       "      <td>0.687500</td>\n",
       "    </tr>\n",
       "    <tr>\n",
       "      <th>85</th>\n",
       "      <td>1</td>\n",
       "      <td>1500.0</td>\n",
       "      <td>0.600000</td>\n",
       "    </tr>\n",
       "    <tr>\n",
       "      <th>86</th>\n",
       "      <td>1</td>\n",
       "      <td>900.0</td>\n",
       "      <td>0.533333</td>\n",
       "    </tr>\n",
       "    <tr>\n",
       "      <th>87</th>\n",
       "      <td>1</td>\n",
       "      <td>780.0</td>\n",
       "      <td>0.538462</td>\n",
       "    </tr>\n",
       "  </tbody>\n",
       "</table>\n",
       "<p>88 rows × 3 columns</p>\n",
       "</div>"
      ],
      "text/plain": [
       "    classType  length  peakPosition\n",
       "0           1  3180.0      0.509434\n",
       "1           1  4260.0      0.464789\n",
       "2           1  1560.0      0.576923\n",
       "3           0   780.0      0.615385\n",
       "4           1  1320.0      0.636364\n",
       "..        ...     ...           ...\n",
       "83          1   780.0      0.615385\n",
       "84          1   960.0      0.687500\n",
       "85          1  1500.0      0.600000\n",
       "86          1   900.0      0.533333\n",
       "87          1   780.0      0.538462\n",
       "\n",
       "[88 rows x 3 columns]"
      ]
     },
     "execution_count": 3,
     "metadata": {},
     "output_type": "execute_result"
    }
   ],
   "source": [
    "from datetime import datetime\n",
    "from sklearn.model_selection import train_test_split\n",
    "from sklearn.preprocessing import StandardScaler, PolynomialFeatures\n",
    "from sklearn.linear_model import LinearRegression\n",
    "from sklearn.metrics import mean_squared_error, r2_score\n",
    "import pandas as pd\n",
    "\n",
    "df = pd.DataFrame(data)\n",
    "\n",
    "# turns classType into one character\n",
    "df['classType'] = df['classType'].apply(lambda x: x[:1])\n",
    "df['classType'] = df['classType'].apply(lambda x: 1 if x == 'M' else 0)\n",
    "\n",
    "# converts time strings into datetime objects\n",
    "df['beginTime'] = df['beginTime'].apply(lambda x: datetime.fromisoformat(x))\n",
    "df['peakTime'] = df['peakTime'].apply(lambda x: datetime.fromisoformat(x))\n",
    "df['endTime'] = df['endTime'].apply(lambda x: datetime.fromisoformat(x))\n",
    "\n",
    "# determines length of each solar flare in seconds\n",
    "df['length'] = (df['endTime'] - df['beginTime']).dt.total_seconds()\n",
    "\n",
    "# determines when the peak occurred \n",
    "df['peakPosition'] = (df['peakTime'] - df['beginTime']).dt.total_seconds() / df['length']\n",
    "\n",
    "df = df.drop(columns=['instruments', 'sourceLocation', 'activeRegionNum',\n",
    "                     'note', 'submissionTime', 'versionId', 'link', 'linkedEvents',\n",
    "                     'flrID', 'catalog', 'beginTime', 'peakTime', 'endTime',], axis=1)\n",
    "df"
   ]
  },
  {
   "cell_type": "code",
   "execution_count": 4,
   "id": "cc93ef9e-f450-401f-94b4-e9b6cc6b446d",
   "metadata": {},
   "outputs": [
    {
     "name": "stdout",
     "output_type": "stream",
     "text": [
      "Train RMSE: 0.271, Test RMSE: 0.203\n",
      "Train R²: 0.186, Test R²: 0.212\n"
     ]
    },
    {
     "name": "stderr",
     "output_type": "stream",
     "text": [
      "/opt/anaconda3/lib/python3.12/site-packages/sklearn/metrics/_regression.py:483: FutureWarning: 'squared' is deprecated in version 1.4 and will be removed in 1.6. To calculate the root mean squared error, use the function'root_mean_squared_error'.\n",
      "  warnings.warn(\n",
      "/opt/anaconda3/lib/python3.12/site-packages/sklearn/metrics/_regression.py:483: FutureWarning: 'squared' is deprecated in version 1.4 and will be removed in 1.6. To calculate the root mean squared error, use the function'root_mean_squared_error'.\n",
      "  warnings.warn(\n"
     ]
    }
   ],
   "source": [
    "X = df.drop(['classType'], axis=1)\n",
    "y = df['classType']\n",
    "\n",
    "# split data\n",
    "X_train, X_test, y_train, y_test = train_test_split(X, y, test_size=0.2, random_state=1)\n",
    "\n",
    "# scale features\n",
    "scaler = StandardScaler()\n",
    "X_train_scaled = scaler.fit_transform(X_train)\n",
    "X_test_scaled = scaler.transform(X_test)\n",
    "\n",
    "# transforms features with PolynomialFeatures\n",
    "degree = 3\n",
    "poly = PolynomialFeatures(degree=degree)\n",
    "X_train_poly = poly.fit_transform(X_train_scaled)\n",
    "X_test_poly = poly.transform(X_test_scaled)\n",
    "\n",
    "# model\n",
    "model = LinearRegression()\n",
    "model.fit(X_train_poly, y_train)\n",
    "\n",
    "# predictions\n",
    "y_train_pred = model.predict(X_train_poly)\n",
    "y_test_pred = model.predict(X_test_poly)\n",
    "\n",
    "# evaluations\n",
    "train_rmse = mean_squared_error(y_train, y_train_pred, squared=False)\n",
    "test_rmse = mean_squared_error(y_test, y_test_pred, squared=False)\n",
    "train_r2 = r2_score(y_train, y_train_pred)\n",
    "test_r2 = r2_score(y_test, y_test_pred)\n",
    "\n",
    "print(f\"Train RMSE: {train_rmse:.3f}, Test RMSE: {test_rmse:.3f}\")\n",
    "print(f\"Train R²: {train_r2:.3f}, Test R²: {test_r2:.3f}\")"
   ]
  },
  {
   "cell_type": "code",
   "execution_count": 86,
   "id": "f4d88284-bbd1-45da-9aa5-6ce6a9180a6e",
   "metadata": {},
   "outputs": [
    {
     "data": {
      "image/png": "[encoded data removed]",
      "text/plain": [
       "<Figure size 640x480 with 1 Axes>"
      ]
     },
     "metadata": {},
     "output_type": "display_data"
    }
   ],
   "source": [
    "import matplotlib.pyplot as plt\n",
    "import numpy as np\n",
    "\n",
    "feature_index = 0  # Index of the feature you want to plot\n",
    "\n",
    "X_plot = np.linspace(X_train_scaled[:, feature_index].min(), X_train_scaled[:, feature_index].max(), 500).reshape(-1, 1)\n",
    "\n",
    "X_plot_full = np.tile(X_plot, (1, X_train_scaled.shape[1]))\n",
    "X_plot_full[:, feature_index] = X_plot[:, 0]\n",
    "\n",
    "X_plot_poly = poly.transform(X_plot_full)\n",
    "\n",
    "# predicts target values\n",
    "y_plot = model.predict(X_plot_poly)\n",
    "\n",
    "# plots training data points (using first feature)\n",
    "plt.scatter(X_train_scaled[:, feature_index], y_train, color='blue', label='Training Data')\n",
    "\n",
    "# plots polynomial regression curve\n",
    "plt.plot(X_plot, y_plot, color='red', linewidth=2, label='Polynomial Regression')\n",
    "\n",
    "# labels/legend\n",
    "plt.xlabel(f'Feature Value (Feature {feature_index + 1})')\n",
    "plt.ylabel('Target Value')\n",
    "plt.title(f'Polynomial Regression (Degree={degree})')\n",
    "plt.legend()\n",
    "plt.show()\n"
   ]
  },
  {
   "cell_type": "code",
   "execution_count": 52,
   "id": "2202761e-1827-4ec6-92e8-8b7479848c3a",
   "metadata": {},
   "outputs": [],
   "source": [
    "X = df.drop(['classType'], axis=1)\n",
    "y = df['classType']\n",
    "\n",
    "Xtrain, Xtest, ytrain, ytest = train_test_split(X, y, test_size=0.2, random_state=1)"
   ]
  },
  {
   "cell_type": "code",
   "execution_count": 90,
   "id": "d96edf43-33f1-4f76-a347-bd477fc655d5",
   "metadata": {},
   "outputs": [
    {
     "name": "stdout",
     "output_type": "stream",
     "text": [
      "0.010087486374339316\n"
     ]
    }
   ],
   "source": [
    "## This\n",
    "modelA = LinearRegression()\n",
    "\n",
    "modelA.fit(Xtrain.iloc[:, 1].values.reshape(-1, 1), ytrain)\n",
    "\n",
    "predA = modelA.predict(Xtest.iloc[:, 1].values.reshape(-1, 1))\n",
    "\n",
    "\n",
    "\n",
    "resA = ytest - predA\n",
    "\n",
    "\n",
    "MSE_A = (resA**2).mean()\n",
    "\n",
    "r2_A = 1 - (MSE_A)/(ytest.var())\n",
    "\n",
    "print(r2_A)\n"
   ]
  },
  {
   "cell_type": "code",
   "execution_count": 92,
   "id": "d8f9786c-fef1-46e9-bc69-7b78a0015605",
   "metadata": {},
   "outputs": [
    {
     "data": {
      "image/png": "[encoded data removed]",
      "text/plain": [
       "<Figure size 640x480 with 1 Axes>"
      ]
     },
     "metadata": {},
     "output_type": "display_data"
    }
   ],
   "source": [
    "import matplotlib.pyplot as plt\n",
    "\n",
    "X_values = Xtest.iloc[:, 1].values\n",
    "y_pred = modelA.predict(X_values.reshape(-1, 1))\n",
    "\n",
    "plt.scatter(X_values, ytest, color='blue', label='Training Data')\n",
    "\n",
    "plt.plot(X_values, y_pred, color='black', label='Regression Line')\n",
    "\n",
    "plt.xlabel('Class Type')\n",
    "plt.ylabel('Target Value')\n",
    "plt.title('Linear Regression Line')\n",
    "plt.legend()\n",
    "plt.show()"
   ]
  },
  {
   "cell_type": "code",
   "execution_count": null,
   "id": "ac42a9e0-3449-4db7-adfc-cb8d80e43fd0",
   "metadata": {},
   "outputs": [],
   "source": []
  }
 ],
 "metadata": {
  "kernelspec": {
   "display_name": "Python 3 (ipykernel)",
   "language": "python",
   "name": "python3"
  },
  "language_info": {
   "codemirror_mode": {
    "name": "ipython",
    "version": 3
   },
   "file_extension": ".py",
   "mimetype": "text/x-python",
   "name": "python",
   "nbconvert_exporter": "python",
   "pygments_lexer": "ipython3",
   "version": "3.12.4"
  }
 },
 "nbformat": 4,
 "nbformat_minor": 5
}
