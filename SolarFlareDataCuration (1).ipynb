{
 "cells": [
  {
   "cell_type": "markdown",
   "id": "3cbfe69d-de67-4a8d-ae59-088e44c0ab5f",
   "metadata": {},
   "source": [
    "# Phase II: Data Curation, Exploratory Analysis and Plotting\n",
    "## Solar Flares Peaks and Length\n",
    "\n",
    " - Baer Istok\n",
    " - Fiona Donohue\n",
    " - Harshini Moon\n",
    " - Evelyn Fabel"
   ]
  },
  {
   "cell_type": "markdown",
   "id": "931f7e23-05f4-4cf6-b3e5-87c76746f2a1",
   "metadata": {},
   "source": [
    "## Project Goal:"
   ]
  },
  {
   "cell_type": "markdown",
   "id": "c4478608-5926-4180-a571-15440799f9ce",
   "metadata": {},
   "source": [
    "Our project looks at solar flares and will explore solar flare data supplied by NASA to try and determine the relationship, if there is any, between the length of a given flare, when the peak occures during that time, and what class type it is. \n",
    "\n",
    "Specifically, we want to know if longer flares are in higher classes, and how far into the flare peak times tend to occur. We are using data from NASA's DONKI api with a focus on solar flares. "
   ]
  },
  {
   "cell_type": "markdown",
   "id": "e073c088-a052-45e5-bebd-d6c9cb06300b",
   "metadata": {},
   "source": [
    "## Pipeline Overview:"
   ]
  },
  {
   "cell_type": "markdown",
   "id": "29abdfb1-5908-491d-8b85-502f131bf9f4",
   "metadata": {},
   "source": [
    "To get the data from the solar flare api:\n",
    " - We use a url with our api key and a starting and ending date\n",
    "    - We use get(url) to retrieve the data from the url.\n",
    "    - The queries are then stored in a list, 'data', and then translated into a dataframe"
   ]
  },
  {
   "cell_type": "markdown",
   "id": "330cc2c3-7e60-4bf4-986e-e3ea6c844c77",
   "metadata": {},
   "source": [
    "#### 0. Gathering the Data"
   ]
  },
  {
   "cell_type": "code",
   "execution_count": 1,
   "id": "e66c5b65-a878-489c-8a56-4f7424ee19fe",
   "metadata": {},
   "outputs": [],
   "source": [
    "import requests\n",
    "\n",
    "import pandas as pd\n",
    "\n",
    "api_key = 'f2asD6aVakycwYB4bQd6ANE3shr74umMDWTurH5x'\n",
    "end_date = '2024-10-20'\n",
    "start_date = '2024-09-20'\n",
    "\n",
    "\n",
    "url = f'https://api.nasa.gov/DONKI/FLR?startDate={start_date}&endDate={end_date}&api_key={api_key}'\n",
    "\n",
    "# Retrieves the data\n",
    "response = requests.get(url)\n",
    "\n",
    "# Stores the retreived data in a list\n",
    "data = response.json()"
   ]
  },
  {
   "cell_type": "markdown",
   "id": "dde3e7b4-71b3-4886-a0b1-5db87e10d60d",
   "metadata": {},
   "source": [
    "#### 1. Cleaning the Data"
   ]
  },
  {
   "cell_type": "code",
   "execution_count": 27,
   "id": "a13a8454-1e9a-484a-b4a4-c2827eed8624",
   "metadata": {},
   "outputs": [
    {
     "data": {
      "text/html": [
       "<div>\n",
       "<style scoped>\n",
       "    .dataframe tbody tr th:only-of-type {\n",
       "        vertical-align: middle;\n",
       "    }\n",
       "\n",
       "    .dataframe tbody tr th {\n",
       "        vertical-align: top;\n",
       "    }\n",
       "\n",
       "    .dataframe thead th {\n",
       "        text-align: right;\n",
       "    }\n",
       "</style>\n",
       "<table border=\"1\" class=\"dataframe\">\n",
       "  <thead>\n",
       "    <tr style=\"text-align: right;\">\n",
       "      <th></th>\n",
       "      <th>flrID</th>\n",
       "      <th>beginTime</th>\n",
       "      <th>peakTime</th>\n",
       "      <th>endTime</th>\n",
       "      <th>length</th>\n",
       "      <th>peakPosition</th>\n",
       "      <th>classType_C</th>\n",
       "      <th>classType_M</th>\n",
       "      <th>classType_X</th>\n",
       "    </tr>\n",
       "  </thead>\n",
       "  <tbody>\n",
       "    <tr>\n",
       "      <th>0</th>\n",
       "      <td>2024-09-22T21:12:00-FLR-001</td>\n",
       "      <td>2024-09-22 21:12:00+00:00</td>\n",
       "      <td>2024-09-22 21:39:00+00:00</td>\n",
       "      <td>2024-09-22 22:05:00+00:00</td>\n",
       "      <td>0 days 00:53:00</td>\n",
       "      <td>0.509434</td>\n",
       "      <td>0.0</td>\n",
       "      <td>1.0</td>\n",
       "      <td>0.0</td>\n",
       "    </tr>\n",
       "    <tr>\n",
       "      <th>1</th>\n",
       "      <td>2024-09-23T14:23:00-FLR-001</td>\n",
       "      <td>2024-09-23 14:23:00+00:00</td>\n",
       "      <td>2024-09-23 14:56:00+00:00</td>\n",
       "      <td>2024-09-23 15:34:00+00:00</td>\n",
       "      <td>0 days 01:11:00</td>\n",
       "      <td>0.464789</td>\n",
       "      <td>0.0</td>\n",
       "      <td>1.0</td>\n",
       "      <td>0.0</td>\n",
       "    </tr>\n",
       "    <tr>\n",
       "      <th>2</th>\n",
       "      <td>2024-09-25T22:57:00-FLR-001</td>\n",
       "      <td>2024-09-25 22:57:00+00:00</td>\n",
       "      <td>2024-09-25 23:12:00+00:00</td>\n",
       "      <td>2024-09-25 23:23:00+00:00</td>\n",
       "      <td>0 days 00:26:00</td>\n",
       "      <td>0.576923</td>\n",
       "      <td>0.0</td>\n",
       "      <td>1.0</td>\n",
       "      <td>0.0</td>\n",
       "    </tr>\n",
       "    <tr>\n",
       "      <th>3</th>\n",
       "      <td>2024-09-26T19:41:00-FLR-001</td>\n",
       "      <td>2024-09-26 19:41:00+00:00</td>\n",
       "      <td>2024-09-26 19:49:00+00:00</td>\n",
       "      <td>2024-09-26 19:54:00+00:00</td>\n",
       "      <td>0 days 00:13:00</td>\n",
       "      <td>0.615385</td>\n",
       "      <td>1.0</td>\n",
       "      <td>0.0</td>\n",
       "      <td>0.0</td>\n",
       "    </tr>\n",
       "    <tr>\n",
       "      <th>4</th>\n",
       "      <td>2024-09-26T22:58:00-FLR-001</td>\n",
       "      <td>2024-09-26 22:58:00+00:00</td>\n",
       "      <td>2024-09-26 23:12:00+00:00</td>\n",
       "      <td>2024-09-26 23:20:00+00:00</td>\n",
       "      <td>0 days 00:22:00</td>\n",
       "      <td>0.636364</td>\n",
       "      <td>0.0</td>\n",
       "      <td>1.0</td>\n",
       "      <td>0.0</td>\n",
       "    </tr>\n",
       "    <tr>\n",
       "      <th>5</th>\n",
       "      <td>2024-09-29T05:26:00-FLR-001</td>\n",
       "      <td>2024-09-29 05:26:00+00:00</td>\n",
       "      <td>2024-09-29 06:11:00+00:00</td>\n",
       "      <td>2024-09-29 06:48:00+00:00</td>\n",
       "      <td>0 days 01:22:00</td>\n",
       "      <td>0.548780</td>\n",
       "      <td>1.0</td>\n",
       "      <td>0.0</td>\n",
       "      <td>0.0</td>\n",
       "    </tr>\n",
       "    <tr>\n",
       "      <th>6</th>\n",
       "      <td>2024-09-29T12:49:00-FLR-001</td>\n",
       "      <td>2024-09-29 12:49:00+00:00</td>\n",
       "      <td>2024-09-29 12:53:00+00:00</td>\n",
       "      <td>2024-09-29 12:58:00+00:00</td>\n",
       "      <td>0 days 00:09:00</td>\n",
       "      <td>0.444444</td>\n",
       "      <td>0.0</td>\n",
       "      <td>1.0</td>\n",
       "      <td>0.0</td>\n",
       "    </tr>\n",
       "    <tr>\n",
       "      <th>7</th>\n",
       "      <td>2024-09-29T14:09:00-FLR-001</td>\n",
       "      <td>2024-09-29 14:09:00+00:00</td>\n",
       "      <td>2024-09-29 14:24:00+00:00</td>\n",
       "      <td>2024-09-29 14:31:00+00:00</td>\n",
       "      <td>0 days 00:22:00</td>\n",
       "      <td>0.681818</td>\n",
       "      <td>0.0</td>\n",
       "      <td>1.0</td>\n",
       "      <td>0.0</td>\n",
       "    </tr>\n",
       "    <tr>\n",
       "      <th>8</th>\n",
       "      <td>2024-09-29T14:31:00-FLR-001</td>\n",
       "      <td>2024-09-29 14:31:00+00:00</td>\n",
       "      <td>2024-09-29 14:41:00+00:00</td>\n",
       "      <td>2024-09-29 14:46:00+00:00</td>\n",
       "      <td>0 days 00:15:00</td>\n",
       "      <td>0.666667</td>\n",
       "      <td>0.0</td>\n",
       "      <td>1.0</td>\n",
       "      <td>0.0</td>\n",
       "    </tr>\n",
       "    <tr>\n",
       "      <th>9</th>\n",
       "      <td>2024-09-30T23:37:00-FLR-001</td>\n",
       "      <td>2024-09-30 23:37:00+00:00</td>\n",
       "      <td>2024-09-30 23:59:00+00:00</td>\n",
       "      <td>2024-10-01 00:23:00+00:00</td>\n",
       "      <td>0 days 00:46:00</td>\n",
       "      <td>0.478261</td>\n",
       "      <td>0.0</td>\n",
       "      <td>1.0</td>\n",
       "      <td>0.0</td>\n",
       "    </tr>\n",
       "    <tr>\n",
       "      <th>10</th>\n",
       "      <td>2024-10-01T14:41:00-FLR-001</td>\n",
       "      <td>2024-10-01 14:41:00+00:00</td>\n",
       "      <td>2024-10-01 14:52:00+00:00</td>\n",
       "      <td>2024-10-01 14:56:00+00:00</td>\n",
       "      <td>0 days 00:15:00</td>\n",
       "      <td>0.733333</td>\n",
       "      <td>0.0</td>\n",
       "      <td>1.0</td>\n",
       "      <td>0.0</td>\n",
       "    </tr>\n",
       "    <tr>\n",
       "      <th>11</th>\n",
       "      <td>2024-10-01T18:52:00-FLR-001</td>\n",
       "      <td>2024-10-01 18:52:00+00:00</td>\n",
       "      <td>2024-10-01 19:17:00+00:00</td>\n",
       "      <td>2024-10-01 19:37:00+00:00</td>\n",
       "      <td>0 days 00:45:00</td>\n",
       "      <td>0.555556</td>\n",
       "      <td>0.0</td>\n",
       "      <td>1.0</td>\n",
       "      <td>0.0</td>\n",
       "    </tr>\n",
       "    <tr>\n",
       "      <th>12</th>\n",
       "      <td>2024-10-01T21:58:00-FLR-001</td>\n",
       "      <td>2024-10-01 21:58:00+00:00</td>\n",
       "      <td>2024-10-01 22:20:00+00:00</td>\n",
       "      <td>2024-10-01 22:29:00+00:00</td>\n",
       "      <td>0 days 00:31:00</td>\n",
       "      <td>0.709677</td>\n",
       "      <td>0.0</td>\n",
       "      <td>0.0</td>\n",
       "      <td>1.0</td>\n",
       "    </tr>\n",
       "    <tr>\n",
       "      <th>13</th>\n",
       "      <td>2024-10-02T01:43:00-FLR-001</td>\n",
       "      <td>2024-10-02 01:43:00+00:00</td>\n",
       "      <td>2024-10-02 01:52:00+00:00</td>\n",
       "      <td>2024-10-02 01:56:00+00:00</td>\n",
       "      <td>0 days 00:13:00</td>\n",
       "      <td>0.692308</td>\n",
       "      <td>0.0</td>\n",
       "      <td>1.0</td>\n",
       "      <td>0.0</td>\n",
       "    </tr>\n",
       "    <tr>\n",
       "      <th>14</th>\n",
       "      <td>2024-10-02T02:31:00-FLR-001</td>\n",
       "      <td>2024-10-02 02:31:00+00:00</td>\n",
       "      <td>2024-10-02 02:39:00+00:00</td>\n",
       "      <td>2024-10-02 02:43:00+00:00</td>\n",
       "      <td>0 days 00:12:00</td>\n",
       "      <td>0.666667</td>\n",
       "      <td>0.0</td>\n",
       "      <td>1.0</td>\n",
       "      <td>0.0</td>\n",
       "    </tr>\n",
       "  </tbody>\n",
       "</table>\n",
       "</div>"
      ],
      "text/plain": [
       "                          flrID                 beginTime  \\\n",
       "0   2024-09-22T21:12:00-FLR-001 2024-09-22 21:12:00+00:00   \n",
       "1   2024-09-23T14:23:00-FLR-001 2024-09-23 14:23:00+00:00   \n",
       "2   2024-09-25T22:57:00-FLR-001 2024-09-25 22:57:00+00:00   \n",
       "3   2024-09-26T19:41:00-FLR-001 2024-09-26 19:41:00+00:00   \n",
       "4   2024-09-26T22:58:00-FLR-001 2024-09-26 22:58:00+00:00   \n",
       "5   2024-09-29T05:26:00-FLR-001 2024-09-29 05:26:00+00:00   \n",
       "6   2024-09-29T12:49:00-FLR-001 2024-09-29 12:49:00+00:00   \n",
       "7   2024-09-29T14:09:00-FLR-001 2024-09-29 14:09:00+00:00   \n",
       "8   2024-09-29T14:31:00-FLR-001 2024-09-29 14:31:00+00:00   \n",
       "9   2024-09-30T23:37:00-FLR-001 2024-09-30 23:37:00+00:00   \n",
       "10  2024-10-01T14:41:00-FLR-001 2024-10-01 14:41:00+00:00   \n",
       "11  2024-10-01T18:52:00-FLR-001 2024-10-01 18:52:00+00:00   \n",
       "12  2024-10-01T21:58:00-FLR-001 2024-10-01 21:58:00+00:00   \n",
       "13  2024-10-02T01:43:00-FLR-001 2024-10-02 01:43:00+00:00   \n",
       "14  2024-10-02T02:31:00-FLR-001 2024-10-02 02:31:00+00:00   \n",
       "\n",
       "                    peakTime                   endTime          length  \\\n",
       "0  2024-09-22 21:39:00+00:00 2024-09-22 22:05:00+00:00 0 days 00:53:00   \n",
       "1  2024-09-23 14:56:00+00:00 2024-09-23 15:34:00+00:00 0 days 01:11:00   \n",
       "2  2024-09-25 23:12:00+00:00 2024-09-25 23:23:00+00:00 0 days 00:26:00   \n",
       "3  2024-09-26 19:49:00+00:00 2024-09-26 19:54:00+00:00 0 days 00:13:00   \n",
       "4  2024-09-26 23:12:00+00:00 2024-09-26 23:20:00+00:00 0 days 00:22:00   \n",
       "5  2024-09-29 06:11:00+00:00 2024-09-29 06:48:00+00:00 0 days 01:22:00   \n",
       "6  2024-09-29 12:53:00+00:00 2024-09-29 12:58:00+00:00 0 days 00:09:00   \n",
       "7  2024-09-29 14:24:00+00:00 2024-09-29 14:31:00+00:00 0 days 00:22:00   \n",
       "8  2024-09-29 14:41:00+00:00 2024-09-29 14:46:00+00:00 0 days 00:15:00   \n",
       "9  2024-09-30 23:59:00+00:00 2024-10-01 00:23:00+00:00 0 days 00:46:00   \n",
       "10 2024-10-01 14:52:00+00:00 2024-10-01 14:56:00+00:00 0 days 00:15:00   \n",
       "11 2024-10-01 19:17:00+00:00 2024-10-01 19:37:00+00:00 0 days 00:45:00   \n",
       "12 2024-10-01 22:20:00+00:00 2024-10-01 22:29:00+00:00 0 days 00:31:00   \n",
       "13 2024-10-02 01:52:00+00:00 2024-10-02 01:56:00+00:00 0 days 00:13:00   \n",
       "14 2024-10-02 02:39:00+00:00 2024-10-02 02:43:00+00:00 0 days 00:12:00   \n",
       "\n",
       "    peakPosition  classType_C  classType_M  classType_X  \n",
       "0       0.509434          0.0          1.0          0.0  \n",
       "1       0.464789          0.0          1.0          0.0  \n",
       "2       0.576923          0.0          1.0          0.0  \n",
       "3       0.615385          1.0          0.0          0.0  \n",
       "4       0.636364          0.0          1.0          0.0  \n",
       "5       0.548780          1.0          0.0          0.0  \n",
       "6       0.444444          0.0          1.0          0.0  \n",
       "7       0.681818          0.0          1.0          0.0  \n",
       "8       0.666667          0.0          1.0          0.0  \n",
       "9       0.478261          0.0          1.0          0.0  \n",
       "10      0.733333          0.0          1.0          0.0  \n",
       "11      0.555556          0.0          1.0          0.0  \n",
       "12      0.709677          0.0          0.0          1.0  \n",
       "13      0.692308          0.0          1.0          0.0  \n",
       "14      0.666667          0.0          1.0          0.0  "
      ]
     },
     "execution_count": 27,
     "metadata": {},
     "output_type": "execute_result"
    }
   ],
   "source": [
    "from datetime import datetime\n",
    "\n",
    "# Converting the list of data into a dataframe\n",
    "df = pd.DataFrame(data)\n",
    "\n",
    "# Removing the excess data\n",
    "df = df.drop(columns=['instruments', 'sourceLocation', 'activeRegionNum',\n",
    "                      'note', 'submissionTime', 'versionId', 'link', 'linkedEvents'], axis=1)\n",
    "\n",
    "# Removing the numerical aspect of the class type so that it can be more categorical\n",
    "# Can be X-class, M-class, or C-class\n",
    "df['classType'] = df['classType'].apply(lambda x: x[:1])\n",
    "\n",
    "# Converting the time strings into datetime objects\n",
    "df['beginTime'] = df['beginTime'].apply(lambda x: datetime.fromisoformat(x))\n",
    "df['peakTime'] = df['peakTime'].apply(lambda x: datetime.fromisoformat(x))\n",
    "df['endTime'] = df['endTime'].apply(lambda x: datetime.fromisoformat(x))\n",
    "\n",
    "# Determining the length of each solarflare\n",
    "df['length'] = df['endTime'] - df['beginTime']\n",
    "\n",
    "# When the peak occured over the course of the solar flare on a scale from 0 to 1\n",
    "# I. e. if a peak occurs closer to the beginning of the flare it is closer to 0\n",
    "df['peakPosition'] = (df['peakTime'] - df['beginTime']) / df['length']\n",
    "\n",
    "# Cleaning the categorical data for analysis\n",
    "df = pd.get_dummies(df, columns=['classType'], dtype='float')\n",
    "\n",
    "\n",
    "df.head(15)"
   ]
  },
  {
   "cell_type": "markdown",
   "id": "a9daa7a6-4b1d-492c-aa96-2be3225b060f",
   "metadata": {},
   "source": [
    "#### 2. Plotting the Data"
   ]
  },
  {
   "cell_type": "code",
   "execution_count": 36,
   "id": "d68131b9-6f84-4f7a-b276-552f2518a945",
   "metadata": {},
   "outputs": [],
   "source": [
    "import matplotlib.pyplot as plt\n",
    "import plotly.express as px"
   ]
  },
  {
   "cell_type": "code",
   "execution_count": 37,
   "id": "ce45458e-83ed-4f7e-8c60-ca9797841610",
   "metadata": {},
   "outputs": [
    {
     "data": {
      "image/png": "[encoded data removed]",
      "text/plain": [
       "<Figure size 1000x600 with 1 Axes>"
      ]
     },
     "metadata": {},
     "output_type": "display_data"
    }
   ],
   "source": [
    "# This first visualization is a histogram that plots the distribution of solar flare durations\n",
    "plt.figure(figsize=(10, 6))\n",
    "plt.hist(df['length'].dt.total_seconds() / 3600, bins=30, color='skyblue', edgecolor='black')\n",
    "plt.title('Distribution of Solar Flare Lengths in Hours')\n",
    "plt.xlabel('Length (hours)')\n",
    "plt.ylabel('Frequency')\n",
    "plt.show()"
   ]
  },
  {
   "cell_type": "code",
   "execution_count": 40,
   "id": "5cd127e4-69bc-4970-9f68-ab27e8013bff",
   "metadata": {},
   "outputs": [
    {
     "data": {
      "application/vnd.plotly.v1+json": {
       "config": {
        "plotlyServerURL": "https://plot.ly"
       },
       "data": [
        {
         "hovertemplate": "<b>%{hovertext}</b><br><br>Class Type=classType_C<br>Length (hours)=%{x}<br>Peak Position=%{y}<extra></extra>",
         "hovertext": [
          "2024-09-26T19:41:00-FLR-001",
          "2024-09-29T05:26:00-FLR-001"
         ],
         "legendgroup": "classType_C",
         "marker": {
          "color": "green",
          "opacity": 0.7,
          "symbol": "circle"
         },
         "mode": "markers",
         "name": "classType_C",
         "orientation": "v",
         "showlegend": true,
         "type": "scatter",
         "x": [
          0.21666666666666667,
          1.3666666666666667
         ],
         "xaxis": "x",
         "y": [
          0.6153846153846154,
          0.5487804878048781
         ],
         "yaxis": "y"
        },
        {
         "hovertemplate": "<b>%{hovertext}</b><br><br>Class Type=classType_M<br>Length (hours)=%{x}<br>Peak Position=%{y}<extra></extra>",
         "hovertext": [
          "2024-09-22T21:12:00-FLR-001",
          "2024-09-23T14:23:00-FLR-001",
          "2024-09-25T22:57:00-FLR-001",
          "2024-09-26T22:58:00-FLR-001",
          "2024-09-29T12:49:00-FLR-001",
          "2024-09-29T14:09:00-FLR-001",
          "2024-09-29T14:31:00-FLR-001",
          "2024-09-30T23:37:00-FLR-001",
          "2024-10-01T14:41:00-FLR-001",
          "2024-10-01T18:52:00-FLR-001",
          "2024-10-02T01:43:00-FLR-001",
          "2024-10-02T02:31:00-FLR-001",
          "2024-10-02T05:30:00-FLR-001",
          "2024-10-02T06:19:00-FLR-001",
          "2024-10-02T13:22:00-FLR-001",
          "2024-10-02T19:58:00-FLR-001",
          "2024-10-02T20:27:00-FLR-001",
          "2024-10-03T02:23:00-FLR-001",
          "2024-10-03T03:22:00-FLR-001",
          "2024-10-03T08:10:00-FLR-001",
          "2024-10-03T08:30:00-FLR-001",
          "2024-10-03T09:19:00-FLR-001",
          "2024-10-03T12:00:00-FLR-001",
          "2024-10-03T17:18:00-FLR-001",
          "2024-10-03T19:18:00-FLR-001",
          "2024-10-03T20:09:00-FLR-001",
          "2024-10-03T21:39:00-FLR-001",
          "2024-10-03T23:26:00-FLR-001",
          "2024-10-04T00:09:00-FLR-001",
          "2024-10-04T04:36:00-FLR-001",
          "2024-10-04T05:30:00-FLR-001",
          "2024-10-04T10:58:00-FLR-001",
          "2024-10-04T20:55:00-FLR-001",
          "2024-10-04T22:04:00-FLR-001",
          "2024-10-05T00:07:00-FLR-001",
          "2024-10-05T08:18:00-FLR-001",
          "2024-10-05T08:37:00-FLR-001",
          "2024-10-05T20:33:00-FLR-001",
          "2024-10-05T23:10:00-FLR-001",
          "2024-10-06T00:09:00-FLR-001",
          "2024-10-06T01:30:00-FLR-001",
          "2024-10-06T15:14:00-FLR-001",
          "2024-10-06T16:41:00-FLR-001",
          "2024-10-06T18:52:00-FLR-001",
          "2024-10-06T20:52:00-FLR-001",
          "2024-10-07T18:03:00-FLR-001",
          "2024-10-08T01:01:00-FLR-001",
          "2024-10-08T08:43:00-FLR-001",
          "2024-10-09T05:41:00-FLR-001",
          "2024-10-09T22:59:00-FLR-001",
          "2024-10-10T11:47:00-FLR-001",
          "2024-10-10T12:10:00-FLR-001",
          "2024-10-10T12:22:00-FLR-001",
          "2024-10-10T16:51:00-FLR-001",
          "2024-10-10T21:54:00-FLR-001",
          "2024-10-11T15:48:00-FLR-001",
          "2024-10-11T16:07:00-FLR-001",
          "2024-10-11T22:50:00-FLR-001",
          "2024-10-14T00:04:00-FLR-001",
          "2024-10-14T13:22:00-FLR-001",
          "2024-10-15T02:02:00-FLR-001",
          "2024-10-15T02:23:00-FLR-001",
          "2024-10-15T10:00:00-FLR-001",
          "2024-10-15T18:00:00-FLR-001",
          "2024-10-15T18:28:00-FLR-001",
          "2024-10-16T03:12:00-FLR-001",
          "2024-10-16T03:21:00-FLR-001",
          "2024-10-16T03:28:00-FLR-001",
          "2024-10-16T03:38:00-FLR-001",
          "2024-10-16T04:57:00-FLR-001",
          "2024-10-16T13:12:00-FLR-001",
          "2024-10-16T14:29:00-FLR-001",
          "2024-10-16T14:51:00-FLR-001",
          "2024-10-17T02:12:00-FLR-001",
          "2024-10-17T04:53:00-FLR-001",
          "2024-10-18T17:28:00-FLR-001",
          "2024-10-18T19:27:00-FLR-001",
          "2024-10-18T23:13:00-FLR-001",
          "2024-10-19T06:48:00-FLR-001",
          "2024-10-19T14:27:00-FLR-001"
         ],
         "legendgroup": "classType_M",
         "marker": {
          "color": "blue",
          "opacity": 0.7,
          "symbol": "circle"
         },
         "mode": "markers",
         "name": "classType_M",
         "orientation": "v",
         "showlegend": true,
         "type": "scatter",
         "x": [
          0.8833333333333333,
          1.1833333333333333,
          0.43333333333333335,
          0.36666666666666664,
          0.15,
          0.36666666666666664,
          0.25,
          0.7666666666666667,
          0.25,
          0.75,
          0.21666666666666667,
          0.2,
          0.26666666666666666,
          0.15,
          0.6,
          0.48333333333333334,
          0.65,
          0.4166666666666667,
          0.6166666666666667,
          0.3333333333333333,
          0.18333333333333332,
          0.06666666666666667,
          0.08333333333333333,
          0.15,
          0.1,
          0.5166666666666667,
          0.15,
          0.06666666666666667,
          0.26666666666666666,
          0.5166666666666667,
          0.18333333333333332,
          0.3,
          0.3,
          0.23333333333333334,
          0.2,
          0.31666666666666665,
          0.21666666666666667,
          0.21666666666666667,
          0.3,
          0.3333333333333333,
          0.5666666666666667,
          0.18333333333333332,
          0.16666666666666666,
          0.2,
          0.9166666666666666,
          0.9833333333333333,
          0.06666666666666667,
          0.23333333333333334,
          0.35,
          0.36666666666666664,
          0.38333333333333336,
          0.2,
          0.1,
          0.35,
          1.2666666666666666,
          0.31666666666666665,
          0.65,
          0.7333333333333333,
          0.45,
          0.4666666666666667,
          0.35,
          0.13333333333333333,
          0.16666666666666666,
          0.4666666666666667,
          0.16666666666666666,
          0.15,
          0.08333333333333333,
          0.11666666666666667,
          0.35,
          0.5333333333333333,
          0.43333333333333335,
          0.36666666666666664,
          0.21666666666666667,
          0.43333333333333335,
          0.3333333333333333,
          0.21666666666666667,
          0.26666666666666666,
          0.4166666666666667,
          0.25,
          0.21666666666666667
         ],
         "xaxis": "x",
         "y": [
          0.5094339622641509,
          0.4647887323943662,
          0.5769230769230769,
          0.6363636363636364,
          0.4444444444444444,
          0.6818181818181818,
          0.6666666666666666,
          0.4782608695652174,
          0.7333333333333333,
          0.5555555555555556,
          0.6923076923076923,
          0.6666666666666666,
          0.5,
          0.5555555555555556,
          0.4444444444444444,
          0.5862068965517241,
          0.6153846153846154,
          0.44,
          0.5135135135135135,
          0.9,
          0.5454545454545454,
          0.5,
          0.6,
          0.3333333333333333,
          0.5,
          0.6129032258064516,
          0.2222222222222222,
          0.5,
          0.5,
          0.6129032258064516,
          0.36363636363636365,
          0.2777777777777778,
          0.5,
          0.5,
          0.4166666666666667,
          0.47368421052631576,
          0.5384615384615384,
          0.5384615384615384,
          0.5555555555555556,
          0.45,
          0.5,
          0.6363636363636364,
          0.4,
          0.5833333333333334,
          0.4909090909090909,
          0.5932203389830508,
          0.5,
          0.5714285714285714,
          0.23809523809523808,
          0.5909090909090909,
          0.6086956521739131,
          0.75,
          0.5,
          0.42857142857142855,
          0.47368421052631576,
          0.8421052631578947,
          0.6666666666666666,
          0.7954545454545454,
          0.48148148148148145,
          0.5357142857142857,
          0.5238095238095238,
          0.5,
          0.6,
          0.6428571428571429,
          0.5,
          0.7777777777777778,
          0.4,
          0.42857142857142855,
          0.38095238095238093,
          0.5625,
          0.5769230769230769,
          0.5909090909090909,
          0.6923076923076923,
          0.38461538461538464,
          0.6,
          0.6153846153846154,
          0.6875,
          0.6,
          0.5333333333333333,
          0.5384615384615384
         ],
         "yaxis": "y"
        },
        {
         "hovertemplate": "<b>%{hovertext}</b><br><br>Class Type=classType_X<br>Length (hours)=%{x}<br>Peak Position=%{y}<extra></extra>",
         "hovertext": [
          "2024-10-01T21:58:00-FLR-001",
          "2024-10-03T12:08:00-FLR-001",
          "2024-10-07T19:02:00-FLR-001",
          "2024-10-07T19:31:00-FLR-001",
          "2024-10-09T01:25:00-FLR-001",
          "2024-10-09T15:44:00-FLR-001"
         ],
         "legendgroup": "classType_X",
         "marker": {
          "color": "red",
          "opacity": 0.7,
          "symbol": "circle"
         },
         "mode": "markers",
         "name": "classType_X",
         "orientation": "v",
         "showlegend": true,
         "type": "scatter",
         "x": [
          0.5166666666666667,
          0.31666666666666665,
          0.48333333333333334,
          2.033333333333333,
          1.3,
          0.15
         ],
         "xaxis": "x",
         "y": [
          0.7096774193548387,
          0.5263157894736842,
          0.3793103448275862,
          0.7213114754098361,
          0.3974358974358974,
          0.3333333333333333
         ],
         "yaxis": "y"
        }
       ],
       "layout": {
        "autosize": true,
        "legend": {
         "title": {
          "text": "Class Type"
         },
         "tracegroupgap": 0
        },
        "template": {
         "data": {
          "bar": [
           {
            "error_x": {
             "color": "#2a3f5f"
            },
            "error_y": {
             "color": "#2a3f5f"
            },
            "marker": {
             "line": {
              "color": "#E5ECF6",
              "width": 0.5
             },
             "pattern": {
              "fillmode": "overlay",
              "size": 10,
              "solidity": 0.2
             }
            },
            "type": "bar"
           }
          ],
          "barpolar": [
           {
            "marker": {
             "line": {
              "color": "#E5ECF6",
              "width": 0.5
             },
             "pattern": {
              "fillmode": "overlay",
              "size": 10,
              "solidity": 0.2
             }
            },
            "type": "barpolar"
           }
          ],
          "carpet": [
           {
            "aaxis": {
             "endlinecolor": "#2a3f5f",
             "gridcolor": "white",
             "linecolor": "white",
             "minorgridcolor": "white",
             "startlinecolor": "#2a3f5f"
            },
            "baxis": {
             "endlinecolor": "#2a3f5f",
             "gridcolor": "white",
             "linecolor": "white",
             "minorgridcolor": "white",
             "startlinecolor": "#2a3f5f"
            },
            "type": "carpet"
           }
          ],
          "choropleth": [
           {
            "colorbar": {
             "outlinewidth": 0,
             "ticks": ""
            },
            "type": "choropleth"
           }
          ],
          "contour": [
           {
            "colorbar": {
             "outlinewidth": 0,
             "ticks": ""
            },
            "colorscale": [
             [
              0,
              "#0d0887"
             ],
             [
              0.1111111111111111,
              "#46039f"
             ],
             [
              0.2222222222222222,
              "#7201a8"
             ],
             [
              0.3333333333333333,
              "#9c179e"
             ],
             [
              0.4444444444444444,
              "#bd3786"
             ],
             [
              0.5555555555555556,
              "#d8576b"
             ],
             [
              0.6666666666666666,
              "#ed7953"
             ],
             [
              0.7777777777777778,
              "#fb9f3a"
             ],
             [
              0.8888888888888888,
              "#fdca26"
             ],
             [
              1,
              "#f0f921"
             ]
            ],
            "type": "contour"
           }
          ],
          "contourcarpet": [
           {
            "colorbar": {
             "outlinewidth": 0,
             "ticks": ""
            },
            "type": "contourcarpet"
           }
          ],
          "heatmap": [
           {
            "colorbar": {
             "outlinewidth": 0,
             "ticks": ""
            },
            "colorscale": [
             [
              0,
              "#0d0887"
             ],
             [
              0.1111111111111111,
              "#46039f"
             ],
             [
              0.2222222222222222,
              "#7201a8"
             ],
             [
              0.3333333333333333,
              "#9c179e"
             ],
             [
              0.4444444444444444,
              "#bd3786"
             ],
             [
              0.5555555555555556,
              "#d8576b"
             ],
             [
              0.6666666666666666,
              "#ed7953"
             ],
             [
              0.7777777777777778,
              "#fb9f3a"
             ],
             [
              0.8888888888888888,
              "#fdca26"
             ],
             [
              1,
              "#f0f921"
             ]
            ],
            "type": "heatmap"
           }
          ],
          "heatmapgl": [
           {
            "colorbar": {
             "outlinewidth": 0,
             "ticks": ""
            },
            "colorscale": [
             [
              0,
              "#0d0887"
             ],
             [
              0.1111111111111111,
              "#46039f"
             ],
             [
              0.2222222222222222,
              "#7201a8"
             ],
             [
              0.3333333333333333,
              "#9c179e"
             ],
             [
              0.4444444444444444,
              "#bd3786"
             ],
             [
              0.5555555555555556,
              "#d8576b"
             ],
             [
              0.6666666666666666,
              "#ed7953"
             ],
             [
              0.7777777777777778,
              "#fb9f3a"
             ],
             [
              0.8888888888888888,
              "#fdca26"
             ],
             [
              1,
              "#f0f921"
             ]
            ],
            "type": "heatmapgl"
           }
          ],
          "histogram": [
           {
            "marker": {
             "pattern": {
              "fillmode": "overlay",
              "size": 10,
              "solidity": 0.2
             }
            },
            "type": "histogram"
           }
          ],
          "histogram2d": [
           {
            "colorbar": {
             "outlinewidth": 0,
             "ticks": ""
            },
            "colorscale": [
             [
              0,
              "#0d0887"
             ],
             [
              0.1111111111111111,
              "#46039f"
             ],
             [
              0.2222222222222222,
              "#7201a8"
             ],
             [
              0.3333333333333333,
              "#9c179e"
             ],
             [
              0.4444444444444444,
              "#bd3786"
             ],
             [
              0.5555555555555556,
              "#d8576b"
             ],
             [
              0.6666666666666666,
              "#ed7953"
             ],
             [
              0.7777777777777778,
              "#fb9f3a"
             ],
             [
              0.8888888888888888,
              "#fdca26"
             ],
             [
              1,
              "#f0f921"
             ]
            ],
            "type": "histogram2d"
           }
          ],
          "histogram2dcontour": [
           {
            "colorbar": {
             "outlinewidth": 0,
             "ticks": ""
            },
            "colorscale": [
             [
              0,
              "#0d0887"
             ],
             [
              0.1111111111111111,
              "#46039f"
             ],
             [
              0.2222222222222222,
              "#7201a8"
             ],
             [
              0.3333333333333333,
              "#9c179e"
             ],
             [
              0.4444444444444444,
              "#bd3786"
             ],
             [
              0.5555555555555556,
              "#d8576b"
             ],
             [
              0.6666666666666666,
              "#ed7953"
             ],
             [
              0.7777777777777778,
              "#fb9f3a"
             ],
             [
              0.8888888888888888,
              "#fdca26"
             ],
             [
              1,
              "#f0f921"
             ]
            ],
            "type": "histogram2dcontour"
           }
          ],
          "mesh3d": [
           {
            "colorbar": {
             "outlinewidth": 0,
             "ticks": ""
            },
            "type": "mesh3d"
           }
          ],
          "parcoords": [
           {
            "line": {
             "colorbar": {
              "outlinewidth": 0,
              "ticks": ""
             }
            },
            "type": "parcoords"
           }
          ],
          "pie": [
           {
            "automargin": true,
            "type": "pie"
           }
          ],
          "scatter": [
           {
            "fillpattern": {
             "fillmode": "overlay",
             "size": 10,
             "solidity": 0.2
            },
            "type": "scatter"
           }
          ],
          "scatter3d": [
           {
            "line": {
             "colorbar": {
              "outlinewidth": 0,
              "ticks": ""
             }
            },
            "marker": {
             "colorbar": {
              "outlinewidth": 0,
              "ticks": ""
             }
            },
            "type": "scatter3d"
           }
          ],
          "scattercarpet": [
           {
            "marker": {
             "colorbar": {
              "outlinewidth": 0,
              "ticks": ""
             }
            },
            "type": "scattercarpet"
           }
          ],
          "scattergeo": [
           {
            "marker": {
             "colorbar": {
              "outlinewidth": 0,
              "ticks": ""
             }
            },
            "type": "scattergeo"
           }
          ],
          "scattergl": [
           {
            "marker": {
             "colorbar": {
              "outlinewidth": 0,
              "ticks": ""
             }
            },
            "type": "scattergl"
           }
          ],
          "scattermapbox": [
           {
            "marker": {
             "colorbar": {
              "outlinewidth": 0,
              "ticks": ""
             }
            },
            "type": "scattermapbox"
           }
          ],
          "scatterpolar": [
           {
            "marker": {
             "colorbar": {
              "outlinewidth": 0,
              "ticks": ""
             }
            },
            "type": "scatterpolar"
           }
          ],
          "scatterpolargl": [
           {
            "marker": {
             "colorbar": {
              "outlinewidth": 0,
              "ticks": ""
             }
            },
            "type": "scatterpolargl"
           }
          ],
          "scatterternary": [
           {
            "marker": {
             "colorbar": {
              "outlinewidth": 0,
              "ticks": ""
             }
            },
            "type": "scatterternary"
           }
          ],
          "surface": [
           {
            "colorbar": {
             "outlinewidth": 0,
             "ticks": ""
            },
            "colorscale": [
             [
              0,
              "#0d0887"
             ],
             [
              0.1111111111111111,
              "#46039f"
             ],
             [
              0.2222222222222222,
              "#7201a8"
             ],
             [
              0.3333333333333333,
              "#9c179e"
             ],
             [
              0.4444444444444444,
              "#bd3786"
             ],
             [
              0.5555555555555556,
              "#d8576b"
             ],
             [
              0.6666666666666666,
              "#ed7953"
             ],
             [
              0.7777777777777778,
              "#fb9f3a"
             ],
             [
              0.8888888888888888,
              "#fdca26"
             ],
             [
              1,
              "#f0f921"
             ]
            ],
            "type": "surface"
           }
          ],
          "table": [
           {
            "cells": {
             "fill": {
              "color": "#EBF0F8"
             },
             "line": {
              "color": "white"
             }
            },
            "header": {
             "fill": {
              "color": "#C8D4E3"
             },
             "line": {
              "color": "white"
             }
            },
            "type": "table"
           }
          ]
         },
         "layout": {
          "annotationdefaults": {
           "arrowcolor": "#2a3f5f",
           "arrowhead": 0,
           "arrowwidth": 1
          },
          "autotypenumbers": "strict",
          "coloraxis": {
           "colorbar": {
            "outlinewidth": 0,
            "ticks": ""
           }
          },
          "colorscale": {
           "diverging": [
            [
             0,
             "#8e0152"
            ],
            [
             0.1,
             "#c51b7d"
            ],
            [
             0.2,
             "#de77ae"
            ],
            [
             0.3,
             "#f1b6da"
            ],
            [
             0.4,
             "#fde0ef"
            ],
            [
             0.5,
             "#f7f7f7"
            ],
            [
             0.6,
             "#e6f5d0"
            ],
            [
             0.7,
             "#b8e186"
            ],
            [
             0.8,
             "#7fbc41"
            ],
            [
             0.9,
             "#4d9221"
            ],
            [
             1,
             "#276419"
            ]
           ],
           "sequential": [
            [
             0,
             "#0d0887"
            ],
            [
             0.1111111111111111,
             "#46039f"
            ],
            [
             0.2222222222222222,
             "#7201a8"
            ],
            [
             0.3333333333333333,
             "#9c179e"
            ],
            [
             0.4444444444444444,
             "#bd3786"
            ],
            [
             0.5555555555555556,
             "#d8576b"
            ],
            [
             0.6666666666666666,
             "#ed7953"
            ],
            [
             0.7777777777777778,
             "#fb9f3a"
            ],
            [
             0.8888888888888888,
             "#fdca26"
            ],
            [
             1,
             "#f0f921"
            ]
           ],
           "sequentialminus": [
            [
             0,
             "#0d0887"
            ],
            [
             0.1111111111111111,
             "#46039f"
            ],
            [
             0.2222222222222222,
             "#7201a8"
            ],
            [
             0.3333333333333333,
             "#9c179e"
            ],
            [
             0.4444444444444444,
             "#bd3786"
            ],
            [
             0.5555555555555556,
             "#d8576b"
            ],
            [
             0.6666666666666666,
             "#ed7953"
            ],
            [
             0.7777777777777778,
             "#fb9f3a"
            ],
            [
             0.8888888888888888,
             "#fdca26"
            ],
            [
             1,
             "#f0f921"
            ]
           ]
          },
          "colorway": [
           "#636efa",
           "#EF553B",
           "#00cc96",
           "#ab63fa",
           "#FFA15A",
           "#19d3f3",
           "#FF6692",
           "#B6E880",
           "#FF97FF",
           "#FECB52"
          ],
          "font": {
           "color": "#2a3f5f"
          },
          "geo": {
           "bgcolor": "white",
           "lakecolor": "white",
           "landcolor": "#E5ECF6",
           "showlakes": true,
           "showland": true,
           "subunitcolor": "white"
          },
          "hoverlabel": {
           "align": "left"
          },
          "hovermode": "closest",
          "mapbox": {
           "style": "light"
          },
          "paper_bgcolor": "white",
          "plot_bgcolor": "#E5ECF6",
          "polar": {
           "angularaxis": {
            "gridcolor": "white",
            "linecolor": "white",
            "ticks": ""
           },
           "bgcolor": "#E5ECF6",
           "radialaxis": {
            "gridcolor": "white",
            "linecolor": "white",
            "ticks": ""
           }
          },
          "scene": {
           "xaxis": {
            "backgroundcolor": "#E5ECF6",
            "gridcolor": "white",
            "gridwidth": 2,
            "linecolor": "white",
            "showbackground": true,
            "ticks": "",
            "zerolinecolor": "white"
           },
           "yaxis": {
            "backgroundcolor": "#E5ECF6",
            "gridcolor": "white",
            "gridwidth": 2,
            "linecolor": "white",
            "showbackground": true,
            "ticks": "",
            "zerolinecolor": "white"
           },
           "zaxis": {
            "backgroundcolor": "#E5ECF6",
            "gridcolor": "white",
            "gridwidth": 2,
            "linecolor": "white",
            "showbackground": true,
            "ticks": "",
            "zerolinecolor": "white"
           }
          },
          "shapedefaults": {
           "line": {
            "color": "#2a3f5f"
           }
          },
          "ternary": {
           "aaxis": {
            "gridcolor": "white",
            "linecolor": "white",
            "ticks": ""
           },
           "baxis": {
            "gridcolor": "white",
            "linecolor": "white",
            "ticks": ""
           },
           "bgcolor": "#E5ECF6",
           "caxis": {
            "gridcolor": "white",
            "linecolor": "white",
            "ticks": ""
           }
          },
          "title": {
           "x": 0.05
          },
          "xaxis": {
           "automargin": true,
           "gridcolor": "white",
           "linecolor": "white",
           "ticks": "",
           "title": {
            "standoff": 15
           },
           "zerolinecolor": "white",
           "zerolinewidth": 2
          },
          "yaxis": {
           "automargin": true,
           "gridcolor": "white",
           "linecolor": "white",
           "ticks": "",
           "title": {
            "standoff": 15
           },
           "zerolinecolor": "white",
           "zerolinewidth": 2
          }
         }
        },
        "title": {
         "text": "Solar Flare Length vs Peak Position by Class Type"
        },
        "xaxis": {
         "anchor": "y",
         "autorange": true,
         "domain": [
          0,
          1
         ],
         "range": [
          -0.052943033977516735,
          2.1529430339775164
         ],
         "title": {
          "text": "Length (hours)"
         },
         "type": "linear"
        },
        "yaxis": {
         "anchor": "x",
         "autorange": true,
         "domain": [
          0,
          1
         ],
         "range": [
          0.16628910463861918,
          0.955933117583603
         ],
         "title": {
          "text": "Peak Position"
         },
         "type": "linear"
        }
       }
      },
      "image/png": "[encoded data removed]",
      "text/html": [
       "<div>                            <div id=\"b6bc1196-5064-4727-beb3-953af7f0800c\" class=\"plotly-graph-div\" style=\"height:525px; width:100%;\"></div>            <script type=\"text/javascript\">                require([\"plotly\"], function(Plotly) {                    window.PLOTLYENV=window.PLOTLYENV || {};                                    if (document.getElementById(\"b6bc1196-5064-4727-beb3-953af7f0800c\")) {                    Plotly.newPlot(                        \"b6bc1196-5064-4727-beb3-953af7f0800c\",                        [{\"hovertemplate\":\"\\u003cb\\u003e%{hovertext}\\u003c\\u002fb\\u003e\\u003cbr\\u003e\\u003cbr\\u003eClass Type=classType_C\\u003cbr\\u003eLength (hours)=%{x}\\u003cbr\\u003ePeak Position=%{y}\\u003cextra\\u003e\\u003c\\u002fextra\\u003e\",\"hovertext\":[\"2024-09-26T19:41:00-FLR-001\",\"2024-09-29T05:26:00-FLR-001\"],\"legendgroup\":\"classType_C\",\"marker\":{\"color\":\"green\",\"opacity\":0.7,\"symbol\":\"circle\"},\"mode\":\"markers\",\"name\":\"classType_C\",\"orientation\":\"v\",\"showlegend\":true,\"x\":[0.21666666666666667,1.3666666666666667],\"xaxis\":\"x\",\"y\":[0.6153846153846154,0.5487804878048781],\"yaxis\":\"y\",\"type\":\"scatter\"},{\"hovertemplate\":\"\\u003cb\\u003e%{hovertext}\\u003c\\u002fb\\u003e\\u003cbr\\u003e\\u003cbr\\u003eClass Type=classType_M\\u003cbr\\u003eLength (hours)=%{x}\\u003cbr\\u003ePeak Position=%{y}\\u003cextra\\u003e\\u003c\\u002fextra\\u003e\",\"hovertext\":[\"2024-09-22T21:12:00-FLR-001\",\"2024-09-23T14:23:00-FLR-001\",\"2024-09-25T22:57:00-FLR-001\",\"2024-09-26T22:58:00-FLR-001\",\"2024-09-29T12:49:00-FLR-001\",\"2024-09-29T14:09:00-FLR-001\",\"2024-09-29T14:31:00-FLR-001\",\"2024-09-30T23:37:00-FLR-001\",\"2024-10-01T14:41:00-FLR-001\",\"2024-10-01T18:52:00-FLR-001\",\"2024-10-02T01:43:00-FLR-001\",\"2024-10-02T02:31:00-FLR-001\",\"2024-10-02T05:30:00-FLR-001\",\"2024-10-02T06:19:00-FLR-001\",\"2024-10-02T13:22:00-FLR-001\",\"2024-10-02T19:58:00-FLR-001\",\"2024-10-02T20:27:00-FLR-001\",\"2024-10-03T02:23:00-FLR-001\",\"2024-10-03T03:22:00-FLR-001\",\"2024-10-03T08:10:00-FLR-001\",\"2024-10-03T08:30:00-FLR-001\",\"2024-10-03T09:19:00-FLR-001\",\"2024-10-03T12:00:00-FLR-001\",\"2024-10-03T17:18:00-FLR-001\",\"2024-10-03T19:18:00-FLR-001\",\"2024-10-03T20:09:00-FLR-001\",\"2024-10-03T21:39:00-FLR-001\",\"2024-10-03T23:26:00-FLR-001\",\"2024-10-04T00:09:00-FLR-001\",\"2024-10-04T04:36:00-FLR-001\",\"2024-10-04T05:30:00-FLR-001\",\"2024-10-04T10:58:00-FLR-001\",\"2024-10-04T20:55:00-FLR-001\",\"2024-10-04T22:04:00-FLR-001\",\"2024-10-05T00:07:00-FLR-001\",\"2024-10-05T08:18:00-FLR-001\",\"2024-10-05T08:37:00-FLR-001\",\"2024-10-05T20:33:00-FLR-001\",\"2024-10-05T23:10:00-FLR-001\",\"2024-10-06T00:09:00-FLR-001\",\"2024-10-06T01:30:00-FLR-001\",\"2024-10-06T15:14:00-FLR-001\",\"2024-10-06T16:41:00-FLR-001\",\"2024-10-06T18:52:00-FLR-001\",\"2024-10-06T20:52:00-FLR-001\",\"2024-10-07T18:03:00-FLR-001\",\"2024-10-08T01:01:00-FLR-001\",\"2024-10-08T08:43:00-FLR-001\",\"2024-10-09T05:41:00-FLR-001\",\"2024-10-09T22:59:00-FLR-001\",\"2024-10-10T11:47:00-FLR-001\",\"2024-10-10T12:10:00-FLR-001\",\"2024-10-10T12:22:00-FLR-001\",\"2024-10-10T16:51:00-FLR-001\",\"2024-10-10T21:54:00-FLR-001\",\"2024-10-11T15:48:00-FLR-001\",\"2024-10-11T16:07:00-FLR-001\",\"2024-10-11T22:50:00-FLR-001\",\"2024-10-14T00:04:00-FLR-001\",\"2024-10-14T13:22:00-FLR-001\",\"2024-10-15T02:02:00-FLR-001\",\"2024-10-15T02:23:00-FLR-001\",\"2024-10-15T10:00:00-FLR-001\",\"2024-10-15T18:00:00-FLR-001\",\"2024-10-15T18:28:00-FLR-001\",\"2024-10-16T03:12:00-FLR-001\",\"2024-10-16T03:21:00-FLR-001\",\"2024-10-16T03:28:00-FLR-001\",\"2024-10-16T03:38:00-FLR-001\",\"2024-10-16T04:57:00-FLR-001\",\"2024-10-16T13:12:00-FLR-001\",\"2024-10-16T14:29:00-FLR-001\",\"2024-10-16T14:51:00-FLR-001\",\"2024-10-17T02:12:00-FLR-001\",\"2024-10-17T04:53:00-FLR-001\",\"2024-10-18T17:28:00-FLR-001\",\"2024-10-18T19:27:00-FLR-001\",\"2024-10-18T23:13:00-FLR-001\",\"2024-10-19T06:48:00-FLR-001\",\"2024-10-19T14:27:00-FLR-001\"],\"legendgroup\":\"classType_M\",\"marker\":{\"color\":\"blue\",\"opacity\":0.7,\"symbol\":\"circle\"},\"mode\":\"markers\",\"name\":\"classType_M\",\"orientation\":\"v\",\"showlegend\":true,\"x\":[0.8833333333333333,1.1833333333333333,0.43333333333333335,0.36666666666666664,0.15,0.36666666666666664,0.25,0.7666666666666667,0.25,0.75,0.21666666666666667,0.2,0.26666666666666666,0.15,0.6,0.48333333333333334,0.65,0.4166666666666667,0.6166666666666667,0.3333333333333333,0.18333333333333332,0.06666666666666667,0.08333333333333333,0.15,0.1,0.5166666666666667,0.15,0.06666666666666667,0.26666666666666666,0.5166666666666667,0.18333333333333332,0.3,0.3,0.23333333333333334,0.2,0.31666666666666665,0.21666666666666667,0.21666666666666667,0.3,0.3333333333333333,0.5666666666666667,0.18333333333333332,0.16666666666666666,0.2,0.9166666666666666,0.9833333333333333,0.06666666666666667,0.23333333333333334,0.35,0.36666666666666664,0.38333333333333336,0.2,0.1,0.35,1.2666666666666666,0.31666666666666665,0.65,0.7333333333333333,0.45,0.4666666666666667,0.35,0.13333333333333333,0.16666666666666666,0.4666666666666667,0.16666666666666666,0.15,0.08333333333333333,0.11666666666666667,0.35,0.5333333333333333,0.43333333333333335,0.36666666666666664,0.21666666666666667,0.43333333333333335,0.3333333333333333,0.21666666666666667,0.26666666666666666,0.4166666666666667,0.25,0.21666666666666667],\"xaxis\":\"x\",\"y\":[0.5094339622641509,0.4647887323943662,0.5769230769230769,0.6363636363636364,0.4444444444444444,0.6818181818181818,0.6666666666666666,0.4782608695652174,0.7333333333333333,0.5555555555555556,0.6923076923076923,0.6666666666666666,0.5,0.5555555555555556,0.4444444444444444,0.5862068965517241,0.6153846153846154,0.44,0.5135135135135135,0.9,0.5454545454545454,0.5,0.6,0.3333333333333333,0.5,0.6129032258064516,0.2222222222222222,0.5,0.5,0.6129032258064516,0.36363636363636365,0.2777777777777778,0.5,0.5,0.4166666666666667,0.47368421052631576,0.5384615384615384,0.5384615384615384,0.5555555555555556,0.45,0.5,0.6363636363636364,0.4,0.5833333333333334,0.4909090909090909,0.5932203389830508,0.5,0.5714285714285714,0.23809523809523808,0.5909090909090909,0.6086956521739131,0.75,0.5,0.42857142857142855,0.47368421052631576,0.8421052631578947,0.6666666666666666,0.7954545454545454,0.48148148148148145,0.5357142857142857,0.5238095238095238,0.5,0.6,0.6428571428571429,0.5,0.7777777777777778,0.4,0.42857142857142855,0.38095238095238093,0.5625,0.5769230769230769,0.5909090909090909,0.6923076923076923,0.38461538461538464,0.6,0.6153846153846154,0.6875,0.6,0.5333333333333333,0.5384615384615384],\"yaxis\":\"y\",\"type\":\"scatter\"},{\"hovertemplate\":\"\\u003cb\\u003e%{hovertext}\\u003c\\u002fb\\u003e\\u003cbr\\u003e\\u003cbr\\u003eClass Type=classType_X\\u003cbr\\u003eLength (hours)=%{x}\\u003cbr\\u003ePeak Position=%{y}\\u003cextra\\u003e\\u003c\\u002fextra\\u003e\",\"hovertext\":[\"2024-10-01T21:58:00-FLR-001\",\"2024-10-03T12:08:00-FLR-001\",\"2024-10-07T19:02:00-FLR-001\",\"2024-10-07T19:31:00-FLR-001\",\"2024-10-09T01:25:00-FLR-001\",\"2024-10-09T15:44:00-FLR-001\"],\"legendgroup\":\"classType_X\",\"marker\":{\"color\":\"red\",\"opacity\":0.7,\"symbol\":\"circle\"},\"mode\":\"markers\",\"name\":\"classType_X\",\"orientation\":\"v\",\"showlegend\":true,\"x\":[0.5166666666666667,0.31666666666666665,0.48333333333333334,2.033333333333333,1.3,0.15],\"xaxis\":\"x\",\"y\":[0.7096774193548387,0.5263157894736842,0.3793103448275862,0.7213114754098361,0.3974358974358974,0.3333333333333333],\"yaxis\":\"y\",\"type\":\"scatter\"}],                        {\"template\":{\"data\":{\"histogram2dcontour\":[{\"type\":\"histogram2dcontour\",\"colorbar\":{\"outlinewidth\":0,\"ticks\":\"\"},\"colorscale\":[[0.0,\"#0d0887\"],[0.1111111111111111,\"#46039f\"],[0.2222222222222222,\"#7201a8\"],[0.3333333333333333,\"#9c179e\"],[0.4444444444444444,\"#bd3786\"],[0.5555555555555556,\"#d8576b\"],[0.6666666666666666,\"#ed7953\"],[0.7777777777777778,\"#fb9f3a\"],[0.8888888888888888,\"#fdca26\"],[1.0,\"#f0f921\"]]}],\"choropleth\":[{\"type\":\"choropleth\",\"colorbar\":{\"outlinewidth\":0,\"ticks\":\"\"}}],\"histogram2d\":[{\"type\":\"histogram2d\",\"colorbar\":{\"outlinewidth\":0,\"ticks\":\"\"},\"colorscale\":[[0.0,\"#0d0887\"],[0.1111111111111111,\"#46039f\"],[0.2222222222222222,\"#7201a8\"],[0.3333333333333333,\"#9c179e\"],[0.4444444444444444,\"#bd3786\"],[0.5555555555555556,\"#d8576b\"],[0.6666666666666666,\"#ed7953\"],[0.7777777777777778,\"#fb9f3a\"],[0.8888888888888888,\"#fdca26\"],[1.0,\"#f0f921\"]]}],\"heatmap\":[{\"type\":\"heatmap\",\"colorbar\":{\"outlinewidth\":0,\"ticks\":\"\"},\"colorscale\":[[0.0,\"#0d0887\"],[0.1111111111111111,\"#46039f\"],[0.2222222222222222,\"#7201a8\"],[0.3333333333333333,\"#9c179e\"],[0.4444444444444444,\"#bd3786\"],[0.5555555555555556,\"#d8576b\"],[0.6666666666666666,\"#ed7953\"],[0.7777777777777778,\"#fb9f3a\"],[0.8888888888888888,\"#fdca26\"],[1.0,\"#f0f921\"]]}],\"heatmapgl\":[{\"type\":\"heatmapgl\",\"colorbar\":{\"outlinewidth\":0,\"ticks\":\"\"},\"colorscale\":[[0.0,\"#0d0887\"],[0.1111111111111111,\"#46039f\"],[0.2222222222222222,\"#7201a8\"],[0.3333333333333333,\"#9c179e\"],[0.4444444444444444,\"#bd3786\"],[0.5555555555555556,\"#d8576b\"],[0.6666666666666666,\"#ed7953\"],[0.7777777777777778,\"#fb9f3a\"],[0.8888888888888888,\"#fdca26\"],[1.0,\"#f0f921\"]]}],\"contourcarpet\":[{\"type\":\"contourcarpet\",\"colorbar\":{\"outlinewidth\":0,\"ticks\":\"\"}}],\"contour\":[{\"type\":\"contour\",\"colorbar\":{\"outlinewidth\":0,\"ticks\":\"\"},\"colorscale\":[[0.0,\"#0d0887\"],[0.1111111111111111,\"#46039f\"],[0.2222222222222222,\"#7201a8\"],[0.3333333333333333,\"#9c179e\"],[0.4444444444444444,\"#bd3786\"],[0.5555555555555556,\"#d8576b\"],[0.6666666666666666,\"#ed7953\"],[0.7777777777777778,\"#fb9f3a\"],[0.8888888888888888,\"#fdca26\"],[1.0,\"#f0f921\"]]}],\"surface\":[{\"type\":\"surface\",\"colorbar\":{\"outlinewidth\":0,\"ticks\":\"\"},\"colorscale\":[[0.0,\"#0d0887\"],[0.1111111111111111,\"#46039f\"],[0.2222222222222222,\"#7201a8\"],[0.3333333333333333,\"#9c179e\"],[0.4444444444444444,\"#bd3786\"],[0.5555555555555556,\"#d8576b\"],[0.6666666666666666,\"#ed7953\"],[0.7777777777777778,\"#fb9f3a\"],[0.8888888888888888,\"#fdca26\"],[1.0,\"#f0f921\"]]}],\"mesh3d\":[{\"type\":\"mesh3d\",\"colorbar\":{\"outlinewidth\":0,\"ticks\":\"\"}}],\"scatter\":[{\"fillpattern\":{\"fillmode\":\"overlay\",\"size\":10,\"solidity\":0.2},\"type\":\"scatter\"}],\"parcoords\":[{\"type\":\"parcoords\",\"line\":{\"colorbar\":{\"outlinewidth\":0,\"ticks\":\"\"}}}],\"scatterpolargl\":[{\"type\":\"scatterpolargl\",\"marker\":{\"colorbar\":{\"outlinewidth\":0,\"ticks\":\"\"}}}],\"bar\":[{\"error_x\":{\"color\":\"#2a3f5f\"},\"error_y\":{\"color\":\"#2a3f5f\"},\"marker\":{\"line\":{\"color\":\"#E5ECF6\",\"width\":0.5},\"pattern\":{\"fillmode\":\"overlay\",\"size\":10,\"solidity\":0.2}},\"type\":\"bar\"}],\"scattergeo\":[{\"type\":\"scattergeo\",\"marker\":{\"colorbar\":{\"outlinewidth\":0,\"ticks\":\"\"}}}],\"scatterpolar\":[{\"type\":\"scatterpolar\",\"marker\":{\"colorbar\":{\"outlinewidth\":0,\"ticks\":\"\"}}}],\"histogram\":[{\"marker\":{\"pattern\":{\"fillmode\":\"overlay\",\"size\":10,\"solidity\":0.2}},\"type\":\"histogram\"}],\"scattergl\":[{\"type\":\"scattergl\",\"marker\":{\"colorbar\":{\"outlinewidth\":0,\"ticks\":\"\"}}}],\"scatter3d\":[{\"type\":\"scatter3d\",\"line\":{\"colorbar\":{\"outlinewidth\":0,\"ticks\":\"\"}},\"marker\":{\"colorbar\":{\"outlinewidth\":0,\"ticks\":\"\"}}}],\"scattermapbox\":[{\"type\":\"scattermapbox\",\"marker\":{\"colorbar\":{\"outlinewidth\":0,\"ticks\":\"\"}}}],\"scatterternary\":[{\"type\":\"scatterternary\",\"marker\":{\"colorbar\":{\"outlinewidth\":0,\"ticks\":\"\"}}}],\"scattercarpet\":[{\"type\":\"scattercarpet\",\"marker\":{\"colorbar\":{\"outlinewidth\":0,\"ticks\":\"\"}}}],\"carpet\":[{\"aaxis\":{\"endlinecolor\":\"#2a3f5f\",\"gridcolor\":\"white\",\"linecolor\":\"white\",\"minorgridcolor\":\"white\",\"startlinecolor\":\"#2a3f5f\"},\"baxis\":{\"endlinecolor\":\"#2a3f5f\",\"gridcolor\":\"white\",\"linecolor\":\"white\",\"minorgridcolor\":\"white\",\"startlinecolor\":\"#2a3f5f\"},\"type\":\"carpet\"}],\"table\":[{\"cells\":{\"fill\":{\"color\":\"#EBF0F8\"},\"line\":{\"color\":\"white\"}},\"header\":{\"fill\":{\"color\":\"#C8D4E3\"},\"line\":{\"color\":\"white\"}},\"type\":\"table\"}],\"barpolar\":[{\"marker\":{\"line\":{\"color\":\"#E5ECF6\",\"width\":0.5},\"pattern\":{\"fillmode\":\"overlay\",\"size\":10,\"solidity\":0.2}},\"type\":\"barpolar\"}],\"pie\":[{\"automargin\":true,\"type\":\"pie\"}]},\"layout\":{\"autotypenumbers\":\"strict\",\"colorway\":[\"#636efa\",\"#EF553B\",\"#00cc96\",\"#ab63fa\",\"#FFA15A\",\"#19d3f3\",\"#FF6692\",\"#B6E880\",\"#FF97FF\",\"#FECB52\"],\"font\":{\"color\":\"#2a3f5f\"},\"hovermode\":\"closest\",\"hoverlabel\":{\"align\":\"left\"},\"paper_bgcolor\":\"white\",\"plot_bgcolor\":\"#E5ECF6\",\"polar\":{\"bgcolor\":\"#E5ECF6\",\"angularaxis\":{\"gridcolor\":\"white\",\"linecolor\":\"white\",\"ticks\":\"\"},\"radialaxis\":{\"gridcolor\":\"white\",\"linecolor\":\"white\",\"ticks\":\"\"}},\"ternary\":{\"bgcolor\":\"#E5ECF6\",\"aaxis\":{\"gridcolor\":\"white\",\"linecolor\":\"white\",\"ticks\":\"\"},\"baxis\":{\"gridcolor\":\"white\",\"linecolor\":\"white\",\"ticks\":\"\"},\"caxis\":{\"gridcolor\":\"white\",\"linecolor\":\"white\",\"ticks\":\"\"}},\"coloraxis\":{\"colorbar\":{\"outlinewidth\":0,\"ticks\":\"\"}},\"colorscale\":{\"sequential\":[[0.0,\"#0d0887\"],[0.1111111111111111,\"#46039f\"],[0.2222222222222222,\"#7201a8\"],[0.3333333333333333,\"#9c179e\"],[0.4444444444444444,\"#bd3786\"],[0.5555555555555556,\"#d8576b\"],[0.6666666666666666,\"#ed7953\"],[0.7777777777777778,\"#fb9f3a\"],[0.8888888888888888,\"#fdca26\"],[1.0,\"#f0f921\"]],\"sequentialminus\":[[0.0,\"#0d0887\"],[0.1111111111111111,\"#46039f\"],[0.2222222222222222,\"#7201a8\"],[0.3333333333333333,\"#9c179e\"],[0.4444444444444444,\"#bd3786\"],[0.5555555555555556,\"#d8576b\"],[0.6666666666666666,\"#ed7953\"],[0.7777777777777778,\"#fb9f3a\"],[0.8888888888888888,\"#fdca26\"],[1.0,\"#f0f921\"]],\"diverging\":[[0,\"#8e0152\"],[0.1,\"#c51b7d\"],[0.2,\"#de77ae\"],[0.3,\"#f1b6da\"],[0.4,\"#fde0ef\"],[0.5,\"#f7f7f7\"],[0.6,\"#e6f5d0\"],[0.7,\"#b8e186\"],[0.8,\"#7fbc41\"],[0.9,\"#4d9221\"],[1,\"#276419\"]]},\"xaxis\":{\"gridcolor\":\"white\",\"linecolor\":\"white\",\"ticks\":\"\",\"title\":{\"standoff\":15},\"zerolinecolor\":\"white\",\"automargin\":true,\"zerolinewidth\":2},\"yaxis\":{\"gridcolor\":\"white\",\"linecolor\":\"white\",\"ticks\":\"\",\"title\":{\"standoff\":15},\"zerolinecolor\":\"white\",\"automargin\":true,\"zerolinewidth\":2},\"scene\":{\"xaxis\":{\"backgroundcolor\":\"#E5ECF6\",\"gridcolor\":\"white\",\"linecolor\":\"white\",\"showbackground\":true,\"ticks\":\"\",\"zerolinecolor\":\"white\",\"gridwidth\":2},\"yaxis\":{\"backgroundcolor\":\"#E5ECF6\",\"gridcolor\":\"white\",\"linecolor\":\"white\",\"showbackground\":true,\"ticks\":\"\",\"zerolinecolor\":\"white\",\"gridwidth\":2},\"zaxis\":{\"backgroundcolor\":\"#E5ECF6\",\"gridcolor\":\"white\",\"linecolor\":\"white\",\"showbackground\":true,\"ticks\":\"\",\"zerolinecolor\":\"white\",\"gridwidth\":2}},\"shapedefaults\":{\"line\":{\"color\":\"#2a3f5f\"}},\"annotationdefaults\":{\"arrowcolor\":\"#2a3f5f\",\"arrowhead\":0,\"arrowwidth\":1},\"geo\":{\"bgcolor\":\"white\",\"landcolor\":\"#E5ECF6\",\"subunitcolor\":\"white\",\"showland\":true,\"showlakes\":true,\"lakecolor\":\"white\"},\"title\":{\"x\":0.05},\"mapbox\":{\"style\":\"light\"}}},\"xaxis\":{\"anchor\":\"y\",\"domain\":[0.0,1.0],\"title\":{\"text\":\"Length (hours)\"}},\"yaxis\":{\"anchor\":\"x\",\"domain\":[0.0,1.0],\"title\":{\"text\":\"Peak Position\"}},\"legend\":{\"title\":{\"text\":\"Class Type\"},\"tracegroupgap\":0},\"title\":{\"text\":\"Solar Flare Length vs Peak Position by Class Type\"}},                        {\"responsive\": true}                    ).then(function(){\n",
       "                            \n",
       "var gd = document.getElementById('b6bc1196-5064-4727-beb3-953af7f0800c');\n",
       "var x = new MutationObserver(function (mutations, observer) {{\n",
       "        var display = window.getComputedStyle(gd).display;\n",
       "        if (!display || display === 'none') {{\n",
       "            console.log([gd, 'removed!']);\n",
       "            Plotly.purge(gd);\n",
       "            observer.disconnect();\n",
       "        }}\n",
       "}});\n",
       "\n",
       "// Listen for the removal of the full notebook cells\n",
       "var notebookContainer = gd.closest('#notebook-container');\n",
       "if (notebookContainer) {{\n",
       "    x.observe(notebookContainer, {childList: true});\n",
       "}}\n",
       "\n",
       "// Listen for the clearing of the current output cell\n",
       "var outputEl = gd.closest('.output');\n",
       "if (outputEl) {{\n",
       "    x.observe(outputEl, {childList: true});\n",
       "}}\n",
       "\n",
       "                        })                };                });            </script>        </div>"
      ]
     },
     "metadata": {},
     "output_type": "display_data"
    }
   ],
   "source": [
    "# melting the dataframe from wide rows to long columns\n",
    "df_sorted = df.melt(id_vars=['flrID', 'peakPosition', 'length'], value_vars=['classType_C', 'classType_M', 'classType_X'], var_name='ClassType', value_name='Presence')\n",
    "\n",
    "# filter the dataframe to only include rows where the class type is present\n",
    "df_sorted = df_sorted[df_sorted['Presence'] == 1]\n",
    "\n",
    "# convert length to hours so it can be represented as a floating-point\n",
    "df_sorted['length_hours'] = df_sorted['length'].dt.total_seconds() / 3600\n",
    "\n",
    "# assign colors based on class type to be called later in figure\n",
    "color_map = {'classType_C': 'green', 'classType_M': 'blue', 'classType_X': 'red'}\n",
    "\n",
    "# create the scatter plot\n",
    "fig = px.scatter(\n",
    "    df_sorted,\n",
    "    x='length_hours',\n",
    "    y='peakPosition',\n",
    "    color='ClassType',\n",
    "    hover_name='flrID',\n",
    "    title='Solar Flare Length vs Peak Position by Class Type',\n",
    "    labels={\n",
    "        'length_hours': 'Length (hours)',\n",
    "        'peakPosition': 'Peak Position',\n",
    "        'ClassType': 'Class Type'\n",
    "    },\n",
    "    color_discrete_map=color_map,\n",
    "    opacity=0.7\n",
    ")\n",
    "\n",
    "fig.show()"
   ]
  },
  {
   "cell_type": "code",
   "execution_count": null,
   "id": "54f97182-4a77-44ba-8795-f908da66feda",
   "metadata": {},
   "outputs": [],
   "source": []
  }
 ],
 "metadata": {
  "kernelspec": {
   "display_name": "Python 3 (ipykernel)",
   "language": "python",
   "name": "python3"
  },
  "language_info": {
   "codemirror_mode": {
    "name": "ipython",
    "version": 3
   },
   "file_extension": ".py",
   "mimetype": "text/x-python",
   "name": "python",
   "nbconvert_exporter": "python",
   "pygments_lexer": "ipython3",
   "version": "3.12.4"
  }
 },
 "nbformat": 4,
 "nbformat_minor": 5
}
